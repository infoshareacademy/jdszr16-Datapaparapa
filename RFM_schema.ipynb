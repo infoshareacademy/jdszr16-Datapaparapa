{
 "cells": [
  {
   "cell_type": "code",
   "execution_count": 5,
   "metadata": {},
   "outputs": [],
   "source": [
    "import numpy as np\n",
    "import pandas as pd\n",
    "from datetime import datetime\n",
    "from datetime import timedelta\n",
    "import os\n",
    "\n",
    "import random\n",
    "from scipy import stats\n",
    "from sklearn.preprocessing import StandardScaler\n",
    "from sklearn.cluster import KMeans\n",
    "from sklearn.metrics import silhouette_score\n",
    "\n",
    "import plotly.express as px\n",
    "import matplotlib as mpl\n",
    "import matplotlib.pyplot as plt\n",
    "import seaborn as sns\n",
    "from mpl_toolkits.mplot3d import Axes3D\n",
    "sns.set()"
   ]
  },
  {
   "cell_type": "code",
   "execution_count": 6,
   "metadata": {},
   "outputs": [],
   "source": [
    "df = pd.read_csv('/Users/iMac/Documents/Event datasets/Cosmetic Shop/2019-Dec.csv')"
   ]
  },
  {
   "cell_type": "code",
   "execution_count": 7,
   "metadata": {},
   "outputs": [
    {
     "name": "stdout",
     "output_type": "stream",
     "text": [
      "The dataframe has 3533286 rows and 9 columns.\n",
      "\n",
      "Shown below are the first 3 rows of the dataframe:\n",
      "\n"
     ]
    },
    {
     "data": {
      "text/html": [
       "<div>\n",
       "<style scoped>\n",
       "    .dataframe tbody tr th:only-of-type {\n",
       "        vertical-align: middle;\n",
       "    }\n",
       "\n",
       "    .dataframe tbody tr th {\n",
       "        vertical-align: top;\n",
       "    }\n",
       "\n",
       "    .dataframe thead th {\n",
       "        text-align: right;\n",
       "    }\n",
       "</style>\n",
       "<table border=\"1\" class=\"dataframe\">\n",
       "  <thead>\n",
       "    <tr style=\"text-align: right;\">\n",
       "      <th></th>\n",
       "      <th>event_time</th>\n",
       "      <th>event_type</th>\n",
       "      <th>product_id</th>\n",
       "      <th>category_id</th>\n",
       "      <th>category_code</th>\n",
       "      <th>brand</th>\n",
       "      <th>price</th>\n",
       "      <th>user_id</th>\n",
       "      <th>user_session</th>\n",
       "    </tr>\n",
       "  </thead>\n",
       "  <tbody>\n",
       "    <tr>\n",
       "      <th>0</th>\n",
       "      <td>2019-12-01 00:00:00 UTC</td>\n",
       "      <td>remove_from_cart</td>\n",
       "      <td>5712790</td>\n",
       "      <td>1487580005268456287</td>\n",
       "      <td>NaN</td>\n",
       "      <td>f.o.x</td>\n",
       "      <td>6.27</td>\n",
       "      <td>576802932</td>\n",
       "      <td>51d85cb0-897f-48d2-918b-ad63965c12dc</td>\n",
       "    </tr>\n",
       "    <tr>\n",
       "      <th>1</th>\n",
       "      <td>2019-12-01 00:00:00 UTC</td>\n",
       "      <td>view</td>\n",
       "      <td>5764655</td>\n",
       "      <td>1487580005411062629</td>\n",
       "      <td>NaN</td>\n",
       "      <td>cnd</td>\n",
       "      <td>29.05</td>\n",
       "      <td>412120092</td>\n",
       "      <td>8adff31e-2051-4894-9758-224bfa8aec18</td>\n",
       "    </tr>\n",
       "    <tr>\n",
       "      <th>2</th>\n",
       "      <td>2019-12-01 00:00:02 UTC</td>\n",
       "      <td>cart</td>\n",
       "      <td>4958</td>\n",
       "      <td>1487580009471148064</td>\n",
       "      <td>NaN</td>\n",
       "      <td>runail</td>\n",
       "      <td>1.19</td>\n",
       "      <td>494077766</td>\n",
       "      <td>c99a50e8-2fac-4c4d-89ec-41c05f114554</td>\n",
       "    </tr>\n",
       "  </tbody>\n",
       "</table>\n",
       "</div>"
      ],
      "text/plain": [
       "                event_time        event_type  product_id          category_id  \\\n",
       "0  2019-12-01 00:00:00 UTC  remove_from_cart     5712790  1487580005268456287   \n",
       "1  2019-12-01 00:00:00 UTC              view     5764655  1487580005411062629   \n",
       "2  2019-12-01 00:00:02 UTC              cart        4958  1487580009471148064   \n",
       "\n",
       "  category_code   brand  price    user_id  \\\n",
       "0           NaN   f.o.x   6.27  576802932   \n",
       "1           NaN     cnd  29.05  412120092   \n",
       "2           NaN  runail   1.19  494077766   \n",
       "\n",
       "                           user_session  \n",
       "0  51d85cb0-897f-48d2-918b-ad63965c12dc  \n",
       "1  8adff31e-2051-4894-9758-224bfa8aec18  \n",
       "2  c99a50e8-2fac-4c4d-89ec-41c05f114554  "
      ]
     },
     "metadata": {},
     "output_type": "display_data"
    }
   ],
   "source": [
    "# a quick examination of the dataframe\n",
    "print(\"The dataframe has {} rows and {} columns.\\n\".format(df.shape[0],df.shape[1]))\n",
    "print(\"Shown below are the first 3 rows of the dataframe:\\n\")\n",
    "pd.set_option('display.max_columns', 100)\n",
    "display(df.head(3))"
   ]
  },
  {
   "cell_type": "code",
   "execution_count": 8,
   "metadata": {},
   "outputs": [],
   "source": [
    "# data preparation\n",
    "\n",
    "# step 1: select customers who purchased\n",
    "df_sales=df.loc[df.event_type=='purchase',:]"
   ]
  },
  {
   "cell_type": "code",
   "execution_count": 9,
   "metadata": {},
   "outputs": [],
   "source": [
    "# step 2: drop \"category_code\", \"brand\", \"product_id\", \"category_id\", and \"user_session\"\n",
    "df_sales=df_sales.drop(columns=['category_code','brand','product_id','category_id','user_session'])"
   ]
  },
  {
   "cell_type": "code",
   "execution_count": 10,
   "metadata": {},
   "outputs": [
    {
     "name": "stderr",
     "output_type": "stream",
     "text": [
      "/var/folders/rj/74569_hj08dczy17w0prp9br0000gp/T/ipykernel_57298/2356193662.py:3: UserWarning: Boolean Series key will be reindexed to match DataFrame index.\n",
      "  df_sales=df_sales[df[\"price\"] > 0 ]\n"
     ]
    }
   ],
   "source": [
    "# step 3: drop duplicates and negative price\n",
    "df_sales=df_sales.drop_duplicates()\n",
    "df_sales=df_sales[df[\"price\"] > 0 ] "
   ]
  },
  {
   "cell_type": "code",
   "execution_count": 11,
   "metadata": {},
   "outputs": [
    {
     "name": "stderr",
     "output_type": "stream",
     "text": [
      "/var/folders/rj/74569_hj08dczy17w0prp9br0000gp/T/ipykernel_57298/769300188.py:2: UserWarning: The argument 'infer_datetime_format' is deprecated and will be removed in a future version. A strict version of it is now the default, see https://pandas.pydata.org/pdeps/0004-consistent-to-datetime-parsing.html. You can safely remove this argument.\n",
      "  df_sales['event_time']=pd.to_datetime(df_sales['event_time'],infer_datetime_format=True)\n"
     ]
    }
   ],
   "source": [
    "# step 4: convert \"event_time\" to DateTime format\n",
    "df_sales['event_time']=pd.to_datetime(df_sales['event_time'],infer_datetime_format=True)"
   ]
  },
  {
   "cell_type": "code",
   "execution_count": 12,
   "metadata": {},
   "outputs": [],
   "source": [
    "# step 5: null\n",
    "nullcolumns=df_sales.isnull().sum()\n",
    "nullnumbers=len(nullcolumns[nullcolumns!=0])"
   ]
  },
  {
   "cell_type": "code",
   "execution_count": 13,
   "metadata": {},
   "outputs": [
    {
     "name": "stdout",
     "output_type": "stream",
     "text": [
      "After preprocessing, the dataframe has 150146 rows, 4 columns, and 0 null value.\n",
      "\n"
     ]
    },
    {
     "data": {
      "text/html": [
       "<div>\n",
       "<style scoped>\n",
       "    .dataframe tbody tr th:only-of-type {\n",
       "        vertical-align: middle;\n",
       "    }\n",
       "\n",
       "    .dataframe tbody tr th {\n",
       "        vertical-align: top;\n",
       "    }\n",
       "\n",
       "    .dataframe thead th {\n",
       "        text-align: right;\n",
       "    }\n",
       "</style>\n",
       "<table border=\"1\" class=\"dataframe\">\n",
       "  <thead>\n",
       "    <tr style=\"text-align: right;\">\n",
       "      <th></th>\n",
       "      <th>event_time</th>\n",
       "      <th>event_type</th>\n",
       "      <th>price</th>\n",
       "      <th>user_id</th>\n",
       "    </tr>\n",
       "  </thead>\n",
       "  <tbody>\n",
       "    <tr>\n",
       "      <th>557</th>\n",
       "      <td>2019-12-01 00:17:50+00:00</td>\n",
       "      <td>purchase</td>\n",
       "      <td>0.38</td>\n",
       "      <td>473613801</td>\n",
       "    </tr>\n",
       "    <tr>\n",
       "      <th>560</th>\n",
       "      <td>2019-12-01 00:17:50+00:00</td>\n",
       "      <td>purchase</td>\n",
       "      <td>0.37</td>\n",
       "      <td>473613801</td>\n",
       "    </tr>\n",
       "    <tr>\n",
       "      <th>565</th>\n",
       "      <td>2019-12-01 00:17:50+00:00</td>\n",
       "      <td>purchase</td>\n",
       "      <td>0.41</td>\n",
       "      <td>473613801</td>\n",
       "    </tr>\n",
       "  </tbody>\n",
       "</table>\n",
       "</div>"
      ],
      "text/plain": [
       "                   event_time event_type  price    user_id\n",
       "557 2019-12-01 00:17:50+00:00   purchase   0.38  473613801\n",
       "560 2019-12-01 00:17:50+00:00   purchase   0.37  473613801\n",
       "565 2019-12-01 00:17:50+00:00   purchase   0.41  473613801"
      ]
     },
     "metadata": {},
     "output_type": "display_data"
    }
   ],
   "source": [
    "print(\"After preprocessing, the dataframe has {} rows, {} columns, and {} null value.\\n\".format(df_sales.shape[0],df_sales.shape[1],nullnumbers))\n",
    "display(df_sales.head(3))"
   ]
  },
  {
   "cell_type": "code",
   "execution_count": 14,
   "metadata": {},
   "outputs": [
    {
     "name": "stdout",
     "output_type": "stream",
     "text": [
      "         user_id  Recency\n",
      "0       12055855       11\n",
      "1       15400971       18\n",
      "2       25392526       13\n",
      "3       28129653       21\n",
      "4       31647175        2\n",
      "...          ...      ...\n",
      "25608  595367593        0\n",
      "25609  595372293        0\n",
      "25610  595373694        0\n",
      "25611  595376179        0\n",
      "25612  595413503        0\n",
      "\n",
      "[25613 rows x 2 columns]\n"
     ]
    }
   ],
   "source": [
    "# group the data by \"user_id\", and calcualte each customer's recency, frequency, and monetary value\n",
    "\n",
    "df_sales.loc[:,'Recency'] = (df_sales[\"event_time\"].max() - df_sales[\"event_time\"]).dt.days\n",
    "df_R=df_sales.groupby('user_id')['Recency'].min().reset_index().rename(columns={\"0\":\"Recency\"})\n",
    "print(df_R)"
   ]
  },
  {
   "cell_type": "code",
   "execution_count": 15,
   "metadata": {},
   "outputs": [
    {
     "name": "stdout",
     "output_type": "stream",
     "text": [
      "         user_id  Frequency\n",
      "0       12055855          4\n",
      "1       15400971          3\n",
      "2       25392526          3\n",
      "3       28129653         13\n",
      "4       31647175          2\n",
      "...          ...        ...\n",
      "25608  595367593          4\n",
      "25609  595372293          2\n",
      "25610  595373694          1\n",
      "25611  595376179          9\n",
      "25612  595413503          1\n",
      "\n",
      "[25613 rows x 2 columns]\n"
     ]
    }
   ],
   "source": [
    "# step 2: calculate \"Frequency\"\n",
    "df_F=df_sales.groupby('user_id')['event_type'].count().reset_index().rename(columns={\"event_type\":\"Frequency\"})\n",
    "print(df_F)"
   ]
  },
  {
   "cell_type": "code",
   "execution_count": 16,
   "metadata": {},
   "outputs": [
    {
     "name": "stdout",
     "output_type": "stream",
     "text": [
      "         user_id  Monetary\n",
      "0       12055855     16.54\n",
      "1       15400971     35.71\n",
      "2       25392526     22.14\n",
      "3       28129653     42.85\n",
      "4       31647175     15.88\n",
      "...          ...       ...\n",
      "25608  595367593     21.27\n",
      "25609  595372293     42.54\n",
      "25610  595373694     19.83\n",
      "25611  595376179     46.49\n",
      "25612  595413503     10.95\n",
      "\n",
      "[25613 rows x 2 columns]\n"
     ]
    }
   ],
   "source": [
    "# step 3: calculate \"Monetary\"\n",
    "df_M=df_sales.groupby('user_id')['price'].sum().reset_index().rename(columns={\"price\":\"Monetary\"})\n",
    "print(df_M)"
   ]
  },
  {
   "cell_type": "code",
   "execution_count": 17,
   "metadata": {},
   "outputs": [
    {
     "name": "stdout",
     "output_type": "stream",
     "text": [
      "         user_id  Recency  Frequency  Monetary\n",
      "0       12055855       11          4     16.54\n",
      "1       15400971       18          3     35.71\n",
      "2       25392526       13          3     22.14\n",
      "3       28129653       21         13     42.85\n",
      "4       31647175        2          2     15.88\n",
      "...          ...      ...        ...       ...\n",
      "25608  595367593        0          4     21.27\n",
      "25609  595372293        0          2     42.54\n",
      "25610  595373694        0          1     19.83\n",
      "25611  595376179        0          9     46.49\n",
      "25612  595413503        0          1     10.95\n",
      "\n",
      "[25613 rows x 4 columns]\n"
     ]
    }
   ],
   "source": [
    "# step 4: merge \"Recency\", \"Frequency\", and \"Monetary\"\n",
    "df_RF=pd.merge(df_R,df_F,on='user_id')\n",
    "df_RFM=pd.merge(df_RF,df_M,on='user_id')\n",
    "print(df_RFM)"
   ]
  },
  {
   "cell_type": "code",
   "execution_count": 18,
   "metadata": {},
   "outputs": [
    {
     "name": "stdout",
     "output_type": "stream",
     "text": [
      "                       event_time event_type  price   user_id  Recency\n",
      "1659356 2019-12-13 12:32:31+00:00   purchase   6.19  15400971       18\n",
      "1659357 2019-12-13 12:32:31+00:00   purchase  20.00  15400971       18\n",
      "1663772 2019-12-13 13:12:22+00:00   purchase   9.52  15400971       18\n"
     ]
    }
   ],
   "source": [
    "print(df_sales[df_sales['user_id'] == 15400971])"
   ]
  },
  {
   "cell_type": "code",
   "execution_count": null,
   "metadata": {},
   "outputs": [],
   "source": [
    "# step 5: remove outliers before K-Means clustering\n",
    "# conditions = np.abs(stats.zscore(df_RFM.loc[:,['Recency','Frequency','Monetary']]) < 3).all(axis=1)\n",
    "# df_RFM2=df_RFM.loc[conditions,:]\n",
    "\n",
    "# df_RFM2.head(3)\n",
    "# df_RFM2.describe()"
   ]
  },
  {
   "cell_type": "code",
   "execution_count": 21,
   "metadata": {},
   "outputs": [
    {
     "data": {
      "text/html": [
       "<div>\n",
       "<style scoped>\n",
       "    .dataframe tbody tr th:only-of-type {\n",
       "        vertical-align: middle;\n",
       "    }\n",
       "\n",
       "    .dataframe tbody tr th {\n",
       "        vertical-align: top;\n",
       "    }\n",
       "\n",
       "    .dataframe thead th {\n",
       "        text-align: right;\n",
       "    }\n",
       "</style>\n",
       "<table border=\"1\" class=\"dataframe\">\n",
       "  <thead>\n",
       "    <tr style=\"text-align: right;\">\n",
       "      <th></th>\n",
       "      <th>user_id</th>\n",
       "      <th>Recency</th>\n",
       "      <th>Frequency</th>\n",
       "      <th>Monetary</th>\n",
       "    </tr>\n",
       "  </thead>\n",
       "  <tbody>\n",
       "    <tr>\n",
       "      <th>count</th>\n",
       "      <td>2.561300e+04</td>\n",
       "      <td>25613.000000</td>\n",
       "      <td>25613.000000</td>\n",
       "      <td>25613.000000</td>\n",
       "    </tr>\n",
       "    <tr>\n",
       "      <th>mean</th>\n",
       "      <td>5.215827e+08</td>\n",
       "      <td>15.654316</td>\n",
       "      <td>5.862101</td>\n",
       "      <td>33.844117</td>\n",
       "    </tr>\n",
       "    <tr>\n",
       "      <th>std</th>\n",
       "      <td>8.808569e+07</td>\n",
       "      <td>8.200944</td>\n",
       "      <td>5.888677</td>\n",
       "      <td>40.976758</td>\n",
       "    </tr>\n",
       "    <tr>\n",
       "      <th>min</th>\n",
       "      <td>1.205586e+07</td>\n",
       "      <td>0.000000</td>\n",
       "      <td>1.000000</td>\n",
       "      <td>0.130000</td>\n",
       "    </tr>\n",
       "    <tr>\n",
       "      <th>25%</th>\n",
       "      <td>4.838006e+08</td>\n",
       "      <td>9.000000</td>\n",
       "      <td>2.000000</td>\n",
       "      <td>12.380000</td>\n",
       "    </tr>\n",
       "    <tr>\n",
       "      <th>50%</th>\n",
       "      <td>5.584707e+08</td>\n",
       "      <td>15.000000</td>\n",
       "      <td>4.000000</td>\n",
       "      <td>22.850000</td>\n",
       "    </tr>\n",
       "    <tr>\n",
       "      <th>75%</th>\n",
       "      <td>5.841410e+08</td>\n",
       "      <td>22.000000</td>\n",
       "      <td>8.000000</td>\n",
       "      <td>40.940000</td>\n",
       "    </tr>\n",
       "    <tr>\n",
       "      <th>max</th>\n",
       "      <td>5.954135e+08</td>\n",
       "      <td>30.000000</td>\n",
       "      <td>153.000000</td>\n",
       "      <td>1027.050000</td>\n",
       "    </tr>\n",
       "  </tbody>\n",
       "</table>\n",
       "</div>"
      ],
      "text/plain": [
       "            user_id       Recency     Frequency      Monetary\n",
       "count  2.561300e+04  25613.000000  25613.000000  25613.000000\n",
       "mean   5.215827e+08     15.654316      5.862101     33.844117\n",
       "std    8.808569e+07      8.200944      5.888677     40.976758\n",
       "min    1.205586e+07      0.000000      1.000000      0.130000\n",
       "25%    4.838006e+08      9.000000      2.000000     12.380000\n",
       "50%    5.584707e+08     15.000000      4.000000     22.850000\n",
       "75%    5.841410e+08     22.000000      8.000000     40.940000\n",
       "max    5.954135e+08     30.000000    153.000000   1027.050000"
      ]
     },
     "execution_count": 21,
     "metadata": {},
     "output_type": "execute_result"
    }
   ],
   "source": [
    "# Calculating RFM Scoring\n",
    "\n",
    "df_RFM.describe()"
   ]
  },
  {
   "cell_type": "code",
   "execution_count": 22,
   "metadata": {},
   "outputs": [
    {
     "data": {
      "text/html": [
       "<div>\n",
       "<style scoped>\n",
       "    .dataframe tbody tr th:only-of-type {\n",
       "        vertical-align: middle;\n",
       "    }\n",
       "\n",
       "    .dataframe tbody tr th {\n",
       "        vertical-align: top;\n",
       "    }\n",
       "\n",
       "    .dataframe thead th {\n",
       "        text-align: right;\n",
       "    }\n",
       "</style>\n",
       "<table border=\"1\" class=\"dataframe\">\n",
       "  <thead>\n",
       "    <tr style=\"text-align: right;\">\n",
       "      <th></th>\n",
       "      <th>user_id</th>\n",
       "      <th>Recency</th>\n",
       "      <th>Frequency</th>\n",
       "      <th>Monetary</th>\n",
       "    </tr>\n",
       "  </thead>\n",
       "  <tbody>\n",
       "    <tr>\n",
       "      <th>0.25</th>\n",
       "      <td>483800581.0</td>\n",
       "      <td>9.0</td>\n",
       "      <td>2.0</td>\n",
       "      <td>12.38</td>\n",
       "    </tr>\n",
       "    <tr>\n",
       "      <th>0.50</th>\n",
       "      <td>558470672.0</td>\n",
       "      <td>15.0</td>\n",
       "      <td>4.0</td>\n",
       "      <td>22.85</td>\n",
       "    </tr>\n",
       "    <tr>\n",
       "      <th>0.75</th>\n",
       "      <td>584140950.0</td>\n",
       "      <td>22.0</td>\n",
       "      <td>8.0</td>\n",
       "      <td>40.94</td>\n",
       "    </tr>\n",
       "  </tbody>\n",
       "</table>\n",
       "</div>"
      ],
      "text/plain": [
       "          user_id  Recency  Frequency  Monetary\n",
       "0.25  483800581.0      9.0        2.0     12.38\n",
       "0.50  558470672.0     15.0        4.0     22.85\n",
       "0.75  584140950.0     22.0        8.0     40.94"
      ]
     },
     "execution_count": 22,
     "metadata": {},
     "output_type": "execute_result"
    }
   ],
   "source": [
    "quantiles = df_RFM.quantile(q = [0.25, 0.50, 0.75])\n",
    "quantiles"
   ]
  },
  {
   "cell_type": "code",
   "execution_count": 23,
   "metadata": {},
   "outputs": [
    {
     "data": {
      "text/html": [
       "<div>\n",
       "<style scoped>\n",
       "    .dataframe tbody tr th:only-of-type {\n",
       "        vertical-align: middle;\n",
       "    }\n",
       "\n",
       "    .dataframe tbody tr th {\n",
       "        vertical-align: top;\n",
       "    }\n",
       "\n",
       "    .dataframe thead th {\n",
       "        text-align: right;\n",
       "    }\n",
       "</style>\n",
       "<table border=\"1\" class=\"dataframe\">\n",
       "  <thead>\n",
       "    <tr style=\"text-align: right;\">\n",
       "      <th></th>\n",
       "      <th>user_id</th>\n",
       "      <th>Recency</th>\n",
       "      <th>Frequency</th>\n",
       "      <th>Monetary</th>\n",
       "      <th>Recency_Score</th>\n",
       "    </tr>\n",
       "  </thead>\n",
       "  <tbody>\n",
       "    <tr>\n",
       "      <th>934</th>\n",
       "      <td>299121399</td>\n",
       "      <td>14</td>\n",
       "      <td>9</td>\n",
       "      <td>24.24</td>\n",
       "      <td>3</td>\n",
       "    </tr>\n",
       "    <tr>\n",
       "      <th>17898</th>\n",
       "      <td>582171942</td>\n",
       "      <td>27</td>\n",
       "      <td>2</td>\n",
       "      <td>16.19</td>\n",
       "      <td>1</td>\n",
       "    </tr>\n",
       "    <tr>\n",
       "      <th>11107</th>\n",
       "      <td>545602213</td>\n",
       "      <td>14</td>\n",
       "      <td>4</td>\n",
       "      <td>9.57</td>\n",
       "      <td>3</td>\n",
       "    </tr>\n",
       "    <tr>\n",
       "      <th>73</th>\n",
       "      <td>127383794</td>\n",
       "      <td>30</td>\n",
       "      <td>13</td>\n",
       "      <td>75.21</td>\n",
       "      <td>1</td>\n",
       "    </tr>\n",
       "    <tr>\n",
       "      <th>12964</th>\n",
       "      <td>559758596</td>\n",
       "      <td>8</td>\n",
       "      <td>6</td>\n",
       "      <td>29.65</td>\n",
       "      <td>4</td>\n",
       "    </tr>\n",
       "    <tr>\n",
       "      <th>24887</th>\n",
       "      <td>592997614</td>\n",
       "      <td>5</td>\n",
       "      <td>4</td>\n",
       "      <td>17.02</td>\n",
       "      <td>4</td>\n",
       "    </tr>\n",
       "    <tr>\n",
       "      <th>21341</th>\n",
       "      <td>587280767</td>\n",
       "      <td>14</td>\n",
       "      <td>4</td>\n",
       "      <td>11.76</td>\n",
       "      <td>3</td>\n",
       "    </tr>\n",
       "    <tr>\n",
       "      <th>25</th>\n",
       "      <td>70406741</td>\n",
       "      <td>8</td>\n",
       "      <td>10</td>\n",
       "      <td>84.63</td>\n",
       "      <td>4</td>\n",
       "    </tr>\n",
       "    <tr>\n",
       "      <th>15112</th>\n",
       "      <td>572750378</td>\n",
       "      <td>10</td>\n",
       "      <td>6</td>\n",
       "      <td>10.99</td>\n",
       "      <td>3</td>\n",
       "    </tr>\n",
       "    <tr>\n",
       "      <th>23112</th>\n",
       "      <td>589922021</td>\n",
       "      <td>2</td>\n",
       "      <td>6</td>\n",
       "      <td>17.67</td>\n",
       "      <td>4</td>\n",
       "    </tr>\n",
       "  </tbody>\n",
       "</table>\n",
       "</div>"
      ],
      "text/plain": [
       "         user_id  Recency  Frequency  Monetary  Recency_Score\n",
       "934    299121399       14          9     24.24              3\n",
       "17898  582171942       27          2     16.19              1\n",
       "11107  545602213       14          4      9.57              3\n",
       "73     127383794       30         13     75.21              1\n",
       "12964  559758596        8          6     29.65              4\n",
       "24887  592997614        5          4     17.02              4\n",
       "21341  587280767       14          4     11.76              3\n",
       "25      70406741        8         10     84.63              4\n",
       "15112  572750378       10          6     10.99              3\n",
       "23112  589922021        2          6     17.67              4"
      ]
     },
     "execution_count": 23,
     "metadata": {},
     "output_type": "execute_result"
    }
   ],
   "source": [
    "# Creating the RFM Score Segmentation Table\n",
    "\n",
    "# Recency\n",
    "\n",
    "def recency_scoring(rfm):\n",
    "    if rfm.Recency <= 9.0:\n",
    "        recency_score = 4\n",
    "    elif rfm.Recency <= 15.0:\n",
    "        recency_score = 3\n",
    "    elif rfm.Recency <= 22.0:\n",
    "        recency_score = 2\n",
    "    else:\n",
    "        recency_score = 1\n",
    "    return recency_score\n",
    "\n",
    "df_RFM['Recency_Score'] = df_RFM.apply(recency_scoring, axis=1)\n",
    "df_RFM.sample(10)"
   ]
  },
  {
   "cell_type": "code",
   "execution_count": 24,
   "metadata": {},
   "outputs": [
    {
     "data": {
      "text/html": [
       "<div>\n",
       "<style scoped>\n",
       "    .dataframe tbody tr th:only-of-type {\n",
       "        vertical-align: middle;\n",
       "    }\n",
       "\n",
       "    .dataframe tbody tr th {\n",
       "        vertical-align: top;\n",
       "    }\n",
       "\n",
       "    .dataframe thead th {\n",
       "        text-align: right;\n",
       "    }\n",
       "</style>\n",
       "<table border=\"1\" class=\"dataframe\">\n",
       "  <thead>\n",
       "    <tr style=\"text-align: right;\">\n",
       "      <th></th>\n",
       "      <th>user_id</th>\n",
       "      <th>Recency</th>\n",
       "      <th>Frequency</th>\n",
       "      <th>Monetary</th>\n",
       "      <th>Recency_Score</th>\n",
       "      <th>Frequency_Score</th>\n",
       "    </tr>\n",
       "  </thead>\n",
       "  <tbody>\n",
       "    <tr>\n",
       "      <th>23142</th>\n",
       "      <td>589971645</td>\n",
       "      <td>11</td>\n",
       "      <td>5</td>\n",
       "      <td>16.89</td>\n",
       "      <td>3</td>\n",
       "      <td>3</td>\n",
       "    </tr>\n",
       "    <tr>\n",
       "      <th>14989</th>\n",
       "      <td>572150449</td>\n",
       "      <td>17</td>\n",
       "      <td>5</td>\n",
       "      <td>22.75</td>\n",
       "      <td>2</td>\n",
       "      <td>3</td>\n",
       "    </tr>\n",
       "    <tr>\n",
       "      <th>11018</th>\n",
       "      <td>544819620</td>\n",
       "      <td>15</td>\n",
       "      <td>2</td>\n",
       "      <td>33.09</td>\n",
       "      <td>3</td>\n",
       "      <td>2</td>\n",
       "    </tr>\n",
       "    <tr>\n",
       "      <th>19542</th>\n",
       "      <td>584520160</td>\n",
       "      <td>22</td>\n",
       "      <td>3</td>\n",
       "      <td>13.74</td>\n",
       "      <td>2</td>\n",
       "      <td>2</td>\n",
       "    </tr>\n",
       "    <tr>\n",
       "      <th>4126</th>\n",
       "      <td>442497489</td>\n",
       "      <td>15</td>\n",
       "      <td>3</td>\n",
       "      <td>10.49</td>\n",
       "      <td>3</td>\n",
       "      <td>2</td>\n",
       "    </tr>\n",
       "    <tr>\n",
       "      <th>18335</th>\n",
       "      <td>582801712</td>\n",
       "      <td>19</td>\n",
       "      <td>11</td>\n",
       "      <td>40.15</td>\n",
       "      <td>2</td>\n",
       "      <td>4</td>\n",
       "    </tr>\n",
       "    <tr>\n",
       "      <th>4963</th>\n",
       "      <td>461027295</td>\n",
       "      <td>3</td>\n",
       "      <td>8</td>\n",
       "      <td>45.22</td>\n",
       "      <td>4</td>\n",
       "      <td>4</td>\n",
       "    </tr>\n",
       "    <tr>\n",
       "      <th>10166</th>\n",
       "      <td>537248790</td>\n",
       "      <td>27</td>\n",
       "      <td>1</td>\n",
       "      <td>5.56</td>\n",
       "      <td>1</td>\n",
       "      <td>1</td>\n",
       "    </tr>\n",
       "    <tr>\n",
       "      <th>3943</th>\n",
       "      <td>438861661</td>\n",
       "      <td>3</td>\n",
       "      <td>16</td>\n",
       "      <td>70.49</td>\n",
       "      <td>4</td>\n",
       "      <td>4</td>\n",
       "    </tr>\n",
       "    <tr>\n",
       "      <th>19458</th>\n",
       "      <td>584428763</td>\n",
       "      <td>7</td>\n",
       "      <td>23</td>\n",
       "      <td>295.87</td>\n",
       "      <td>4</td>\n",
       "      <td>4</td>\n",
       "    </tr>\n",
       "  </tbody>\n",
       "</table>\n",
       "</div>"
      ],
      "text/plain": [
       "         user_id  Recency  Frequency  Monetary  Recency_Score  Frequency_Score\n",
       "23142  589971645       11          5     16.89              3                3\n",
       "14989  572150449       17          5     22.75              2                3\n",
       "11018  544819620       15          2     33.09              3                2\n",
       "19542  584520160       22          3     13.74              2                2\n",
       "4126   442497489       15          3     10.49              3                2\n",
       "18335  582801712       19         11     40.15              2                4\n",
       "4963   461027295        3          8     45.22              4                4\n",
       "10166  537248790       27          1      5.56              1                1\n",
       "3943   438861661        3         16     70.49              4                4\n",
       "19458  584428763        7         23    295.87              4                4"
      ]
     },
     "execution_count": 24,
     "metadata": {},
     "output_type": "execute_result"
    }
   ],
   "source": [
    "# Frequency\n",
    "\n",
    "def frequency_scoring(rfm):\n",
    "    if rfm.Frequency >= 8.0:\n",
    "        frequency_score = 4\n",
    "    elif rfm.Frequency >= 4.0:\n",
    "        frequency_score = 3\n",
    "    elif rfm.Frequency >= 2.0:\n",
    "        frequency_score = 2\n",
    "    else:\n",
    "        frequency_score = 1\n",
    "    return frequency_score\n",
    "\n",
    "df_RFM['Frequency_Score'] = df_RFM.apply(frequency_scoring, axis=1)\n",
    "df_RFM.sample(10)"
   ]
  },
  {
   "cell_type": "code",
   "execution_count": 25,
   "metadata": {},
   "outputs": [
    {
     "data": {
      "text/html": [
       "<div>\n",
       "<style scoped>\n",
       "    .dataframe tbody tr th:only-of-type {\n",
       "        vertical-align: middle;\n",
       "    }\n",
       "\n",
       "    .dataframe tbody tr th {\n",
       "        vertical-align: top;\n",
       "    }\n",
       "\n",
       "    .dataframe thead th {\n",
       "        text-align: right;\n",
       "    }\n",
       "</style>\n",
       "<table border=\"1\" class=\"dataframe\">\n",
       "  <thead>\n",
       "    <tr style=\"text-align: right;\">\n",
       "      <th></th>\n",
       "      <th>user_id</th>\n",
       "      <th>Recency</th>\n",
       "      <th>Frequency</th>\n",
       "      <th>Monetary</th>\n",
       "      <th>Recency_Score</th>\n",
       "      <th>Frequency_Score</th>\n",
       "      <th>Monetary_Score</th>\n",
       "    </tr>\n",
       "  </thead>\n",
       "  <tbody>\n",
       "    <tr>\n",
       "      <th>9577</th>\n",
       "      <td>531320753</td>\n",
       "      <td>6</td>\n",
       "      <td>2</td>\n",
       "      <td>19.37</td>\n",
       "      <td>4</td>\n",
       "      <td>2</td>\n",
       "      <td>2</td>\n",
       "    </tr>\n",
       "    <tr>\n",
       "      <th>4345</th>\n",
       "      <td>446879104</td>\n",
       "      <td>26</td>\n",
       "      <td>9</td>\n",
       "      <td>29.04</td>\n",
       "      <td>1</td>\n",
       "      <td>4</td>\n",
       "      <td>3</td>\n",
       "    </tr>\n",
       "    <tr>\n",
       "      <th>17543</th>\n",
       "      <td>581746772</td>\n",
       "      <td>27</td>\n",
       "      <td>9</td>\n",
       "      <td>24.35</td>\n",
       "      <td>1</td>\n",
       "      <td>4</td>\n",
       "      <td>3</td>\n",
       "    </tr>\n",
       "    <tr>\n",
       "      <th>14354</th>\n",
       "      <td>568418798</td>\n",
       "      <td>17</td>\n",
       "      <td>2</td>\n",
       "      <td>11.43</td>\n",
       "      <td>2</td>\n",
       "      <td>2</td>\n",
       "      <td>1</td>\n",
       "    </tr>\n",
       "    <tr>\n",
       "      <th>9965</th>\n",
       "      <td>535538962</td>\n",
       "      <td>20</td>\n",
       "      <td>4</td>\n",
       "      <td>21.94</td>\n",
       "      <td>2</td>\n",
       "      <td>3</td>\n",
       "      <td>2</td>\n",
       "    </tr>\n",
       "    <tr>\n",
       "      <th>6758</th>\n",
       "      <td>490462752</td>\n",
       "      <td>27</td>\n",
       "      <td>3</td>\n",
       "      <td>52.16</td>\n",
       "      <td>1</td>\n",
       "      <td>2</td>\n",
       "      <td>4</td>\n",
       "    </tr>\n",
       "    <tr>\n",
       "      <th>15183</th>\n",
       "      <td>573121010</td>\n",
       "      <td>30</td>\n",
       "      <td>8</td>\n",
       "      <td>13.56</td>\n",
       "      <td>1</td>\n",
       "      <td>4</td>\n",
       "      <td>2</td>\n",
       "    </tr>\n",
       "    <tr>\n",
       "      <th>20783</th>\n",
       "      <td>586316914</td>\n",
       "      <td>18</td>\n",
       "      <td>4</td>\n",
       "      <td>11.90</td>\n",
       "      <td>2</td>\n",
       "      <td>3</td>\n",
       "      <td>1</td>\n",
       "    </tr>\n",
       "    <tr>\n",
       "      <th>9394</th>\n",
       "      <td>529378247</td>\n",
       "      <td>17</td>\n",
       "      <td>6</td>\n",
       "      <td>20.31</td>\n",
       "      <td>2</td>\n",
       "      <td>3</td>\n",
       "      <td>2</td>\n",
       "    </tr>\n",
       "    <tr>\n",
       "      <th>3342</th>\n",
       "      <td>423686893</td>\n",
       "      <td>25</td>\n",
       "      <td>2</td>\n",
       "      <td>1.89</td>\n",
       "      <td>1</td>\n",
       "      <td>2</td>\n",
       "      <td>1</td>\n",
       "    </tr>\n",
       "  </tbody>\n",
       "</table>\n",
       "</div>"
      ],
      "text/plain": [
       "         user_id  Recency  Frequency  Monetary  Recency_Score  \\\n",
       "9577   531320753        6          2     19.37              4   \n",
       "4345   446879104       26          9     29.04              1   \n",
       "17543  581746772       27          9     24.35              1   \n",
       "14354  568418798       17          2     11.43              2   \n",
       "9965   535538962       20          4     21.94              2   \n",
       "6758   490462752       27          3     52.16              1   \n",
       "15183  573121010       30          8     13.56              1   \n",
       "20783  586316914       18          4     11.90              2   \n",
       "9394   529378247       17          6     20.31              2   \n",
       "3342   423686893       25          2      1.89              1   \n",
       "\n",
       "       Frequency_Score  Monetary_Score  \n",
       "9577                 2               2  \n",
       "4345                 4               3  \n",
       "17543                4               3  \n",
       "14354                2               1  \n",
       "9965                 3               2  \n",
       "6758                 2               4  \n",
       "15183                4               2  \n",
       "20783                3               1  \n",
       "9394                 3               2  \n",
       "3342                 2               1  "
      ]
     },
     "execution_count": 25,
     "metadata": {},
     "output_type": "execute_result"
    }
   ],
   "source": [
    "# Monetary\n",
    "\n",
    "def monetary_scoring(rfm):\n",
    "    if rfm.Monetary >= 41.0:\n",
    "        monetary_score = 4\n",
    "    elif rfm.Monetary >= 23.0:\n",
    "        monetary_score = 3\n",
    "    elif rfm.Monetary >= 12.0:\n",
    "        monetary_score = 2\n",
    "    else:\n",
    "        monetary_score = 1\n",
    "    return monetary_score\n",
    "\n",
    "df_RFM['Monetary_Score'] = df_RFM.apply(monetary_scoring, axis=1)\n",
    "df_RFM.sample(10)"
   ]
  },
  {
   "cell_type": "code",
   "execution_count": 26,
   "metadata": {},
   "outputs": [
    {
     "data": {
      "image/png": "[encoded data removed]",
      "text/plain": [
       "<Figure size 1000x600 with 1 Axes>"
      ]
     },
     "metadata": {},
     "output_type": "display_data"
    }
   ],
   "source": [
    "# Obliczanie liczności wartości dla każdej kolumny\n",
    "recency_counts = df_RFM['Recency_Score'].value_counts().sort_index()\n",
    "frequency_counts = df_RFM['Frequency_Score'].value_counts().sort_index()\n",
    "monetary_counts = df_RFM['Monetary_Score'].value_counts().sort_index()\n",
    "\n",
    "# Tworzenie wykresu\n",
    "plt.figure(figsize=(10, 6))\n",
    "plt.bar(recency_counts.index - 0.2, recency_counts.values, width=0.2, label='Recency_Score', align='center')\n",
    "plt.bar(frequency_counts.index, frequency_counts.values, width=0.2, label='Frequency_Score', align='center')\n",
    "plt.bar(monetary_counts.index + 0.2, monetary_counts.values, width=0.2, label='Monetary_Score', align='center')\n",
    "\n",
    "# Dodanie etykiet i tytułu\n",
    "plt.xlabel('Wartości Score')\n",
    "plt.ylabel('Liczba wystąpień')\n",
    "plt.title('Rozkład wartości Score w kolumnach')\n",
    "plt.xticks(ticks=recency_counts.index, labels=recency_counts.index)\n",
    "plt.legend()\n",
    "plt.tight_layout()\n",
    "plt.show()"
   ]
  },
  {
   "cell_type": "code",
   "execution_count": 27,
   "metadata": {},
   "outputs": [
    {
     "data": {
      "text/html": [
       "<div>\n",
       "<style scoped>\n",
       "    .dataframe tbody tr th:only-of-type {\n",
       "        vertical-align: middle;\n",
       "    }\n",
       "\n",
       "    .dataframe tbody tr th {\n",
       "        vertical-align: top;\n",
       "    }\n",
       "\n",
       "    .dataframe thead th {\n",
       "        text-align: right;\n",
       "    }\n",
       "</style>\n",
       "<table border=\"1\" class=\"dataframe\">\n",
       "  <thead>\n",
       "    <tr style=\"text-align: right;\">\n",
       "      <th></th>\n",
       "      <th>user_id</th>\n",
       "      <th>Recency</th>\n",
       "      <th>Frequency</th>\n",
       "      <th>Monetary</th>\n",
       "      <th>Recency_Score</th>\n",
       "      <th>Frequency_Score</th>\n",
       "      <th>Monetary_Score</th>\n",
       "      <th>Customer_RFM_Score</th>\n",
       "    </tr>\n",
       "  </thead>\n",
       "  <tbody>\n",
       "    <tr>\n",
       "      <th>10805</th>\n",
       "      <td>542551313</td>\n",
       "      <td>13</td>\n",
       "      <td>2</td>\n",
       "      <td>13.02</td>\n",
       "      <td>3</td>\n",
       "      <td>2</td>\n",
       "      <td>2</td>\n",
       "      <td>322</td>\n",
       "    </tr>\n",
       "    <tr>\n",
       "      <th>1049</th>\n",
       "      <td>308509490</td>\n",
       "      <td>22</td>\n",
       "      <td>3</td>\n",
       "      <td>12.73</td>\n",
       "      <td>2</td>\n",
       "      <td>2</td>\n",
       "      <td>2</td>\n",
       "      <td>222</td>\n",
       "    </tr>\n",
       "    <tr>\n",
       "      <th>18310</th>\n",
       "      <td>582783059</td>\n",
       "      <td>25</td>\n",
       "      <td>9</td>\n",
       "      <td>26.21</td>\n",
       "      <td>1</td>\n",
       "      <td>4</td>\n",
       "      <td>3</td>\n",
       "      <td>143</td>\n",
       "    </tr>\n",
       "    <tr>\n",
       "      <th>24856</th>\n",
       "      <td>592922227</td>\n",
       "      <td>5</td>\n",
       "      <td>6</td>\n",
       "      <td>7.95</td>\n",
       "      <td>4</td>\n",
       "      <td>3</td>\n",
       "      <td>1</td>\n",
       "      <td>431</td>\n",
       "    </tr>\n",
       "    <tr>\n",
       "      <th>12391</th>\n",
       "      <td>555767750</td>\n",
       "      <td>14</td>\n",
       "      <td>27</td>\n",
       "      <td>355.58</td>\n",
       "      <td>3</td>\n",
       "      <td>4</td>\n",
       "      <td>4</td>\n",
       "      <td>344</td>\n",
       "    </tr>\n",
       "    <tr>\n",
       "      <th>1322</th>\n",
       "      <td>334220789</td>\n",
       "      <td>15</td>\n",
       "      <td>2</td>\n",
       "      <td>6.03</td>\n",
       "      <td>3</td>\n",
       "      <td>2</td>\n",
       "      <td>1</td>\n",
       "      <td>321</td>\n",
       "    </tr>\n",
       "    <tr>\n",
       "      <th>23416</th>\n",
       "      <td>590510226</td>\n",
       "      <td>10</td>\n",
       "      <td>6</td>\n",
       "      <td>22.99</td>\n",
       "      <td>3</td>\n",
       "      <td>3</td>\n",
       "      <td>2</td>\n",
       "      <td>332</td>\n",
       "    </tr>\n",
       "    <tr>\n",
       "      <th>6551</th>\n",
       "      <td>486966369</td>\n",
       "      <td>20</td>\n",
       "      <td>3</td>\n",
       "      <td>10.14</td>\n",
       "      <td>2</td>\n",
       "      <td>2</td>\n",
       "      <td>1</td>\n",
       "      <td>221</td>\n",
       "    </tr>\n",
       "  </tbody>\n",
       "</table>\n",
       "</div>"
      ],
      "text/plain": [
       "         user_id  Recency  Frequency  Monetary  Recency_Score  \\\n",
       "10805  542551313       13          2     13.02              3   \n",
       "1049   308509490       22          3     12.73              2   \n",
       "18310  582783059       25          9     26.21              1   \n",
       "24856  592922227        5          6      7.95              4   \n",
       "12391  555767750       14         27    355.58              3   \n",
       "1322   334220789       15          2      6.03              3   \n",
       "23416  590510226       10          6     22.99              3   \n",
       "6551   486966369       20          3     10.14              2   \n",
       "\n",
       "       Frequency_Score  Monetary_Score Customer_RFM_Score  \n",
       "10805                2               2                322  \n",
       "1049                 2               2                222  \n",
       "18310                4               3                143  \n",
       "24856                3               1                431  \n",
       "12391                4               4                344  \n",
       "1322                 2               1                321  \n",
       "23416                3               2                332  \n",
       "6551                 2               1                221  "
      ]
     },
     "execution_count": 27,
     "metadata": {},
     "output_type": "execute_result"
    }
   ],
   "source": [
    "def rfm_scoring(customer):\n",
    "    return str(int(customer['Recency_Score'])) + str(int(customer['Frequency_Score'])) + str(int(customer['Monetary_Score']))\n",
    "\n",
    "\n",
    "df_RFM['Customer_RFM_Score'] = df_RFM.apply(rfm_scoring, axis=1)\n",
    "df_RFM.sample(8)"
   ]
  },
  {
   "cell_type": "code",
   "execution_count": 28,
   "metadata": {},
   "outputs": [
    {
     "data": {
      "text/html": [
       "<div>\n",
       "<style scoped>\n",
       "    .dataframe tbody tr th:only-of-type {\n",
       "        vertical-align: middle;\n",
       "    }\n",
       "\n",
       "    .dataframe tbody tr th {\n",
       "        vertical-align: top;\n",
       "    }\n",
       "\n",
       "    .dataframe thead th {\n",
       "        text-align: right;\n",
       "    }\n",
       "</style>\n",
       "<table border=\"1\" class=\"dataframe\">\n",
       "  <thead>\n",
       "    <tr style=\"text-align: right;\">\n",
       "      <th></th>\n",
       "      <th>user_id</th>\n",
       "      <th>Recency</th>\n",
       "      <th>Frequency</th>\n",
       "      <th>Monetary</th>\n",
       "      <th>Recency_Score</th>\n",
       "      <th>Frequency_Score</th>\n",
       "      <th>Monetary_Score</th>\n",
       "      <th>Customer_RFM_Score</th>\n",
       "      <th>RFM_Label</th>\n",
       "    </tr>\n",
       "  </thead>\n",
       "  <tbody>\n",
       "    <tr>\n",
       "      <th>24569</th>\n",
       "      <td>592360649</td>\n",
       "      <td>6</td>\n",
       "      <td>1</td>\n",
       "      <td>3.00</td>\n",
       "      <td>4</td>\n",
       "      <td>1</td>\n",
       "      <td>1</td>\n",
       "      <td>411</td>\n",
       "      <td>6</td>\n",
       "    </tr>\n",
       "    <tr>\n",
       "      <th>13272</th>\n",
       "      <td>561629737</td>\n",
       "      <td>13</td>\n",
       "      <td>7</td>\n",
       "      <td>28.41</td>\n",
       "      <td>3</td>\n",
       "      <td>3</td>\n",
       "      <td>3</td>\n",
       "      <td>333</td>\n",
       "      <td>9</td>\n",
       "    </tr>\n",
       "    <tr>\n",
       "      <th>15013</th>\n",
       "      <td>572244346</td>\n",
       "      <td>16</td>\n",
       "      <td>1</td>\n",
       "      <td>30.95</td>\n",
       "      <td>2</td>\n",
       "      <td>1</td>\n",
       "      <td>3</td>\n",
       "      <td>213</td>\n",
       "      <td>6</td>\n",
       "    </tr>\n",
       "    <tr>\n",
       "      <th>17029</th>\n",
       "      <td>580873811</td>\n",
       "      <td>25</td>\n",
       "      <td>6</td>\n",
       "      <td>18.48</td>\n",
       "      <td>1</td>\n",
       "      <td>3</td>\n",
       "      <td>2</td>\n",
       "      <td>132</td>\n",
       "      <td>6</td>\n",
       "    </tr>\n",
       "    <tr>\n",
       "      <th>24087</th>\n",
       "      <td>591578101</td>\n",
       "      <td>5</td>\n",
       "      <td>15</td>\n",
       "      <td>89.49</td>\n",
       "      <td>4</td>\n",
       "      <td>4</td>\n",
       "      <td>4</td>\n",
       "      <td>444</td>\n",
       "      <td>12</td>\n",
       "    </tr>\n",
       "    <tr>\n",
       "      <th>11353</th>\n",
       "      <td>547847390</td>\n",
       "      <td>22</td>\n",
       "      <td>10</td>\n",
       "      <td>34.34</td>\n",
       "      <td>2</td>\n",
       "      <td>4</td>\n",
       "      <td>3</td>\n",
       "      <td>243</td>\n",
       "      <td>9</td>\n",
       "    </tr>\n",
       "    <tr>\n",
       "      <th>17305</th>\n",
       "      <td>581364008</td>\n",
       "      <td>28</td>\n",
       "      <td>1</td>\n",
       "      <td>12.22</td>\n",
       "      <td>1</td>\n",
       "      <td>1</td>\n",
       "      <td>2</td>\n",
       "      <td>112</td>\n",
       "      <td>4</td>\n",
       "    </tr>\n",
       "    <tr>\n",
       "      <th>17244</th>\n",
       "      <td>581287525</td>\n",
       "      <td>28</td>\n",
       "      <td>4</td>\n",
       "      <td>38.45</td>\n",
       "      <td>1</td>\n",
       "      <td>3</td>\n",
       "      <td>3</td>\n",
       "      <td>133</td>\n",
       "      <td>7</td>\n",
       "    </tr>\n",
       "  </tbody>\n",
       "</table>\n",
       "</div>"
      ],
      "text/plain": [
       "         user_id  Recency  Frequency  Monetary  Recency_Score  \\\n",
       "24569  592360649        6          1      3.00              4   \n",
       "13272  561629737       13          7     28.41              3   \n",
       "15013  572244346       16          1     30.95              2   \n",
       "17029  580873811       25          6     18.48              1   \n",
       "24087  591578101        5         15     89.49              4   \n",
       "11353  547847390       22         10     34.34              2   \n",
       "17305  581364008       28          1     12.22              1   \n",
       "17244  581287525       28          4     38.45              1   \n",
       "\n",
       "       Frequency_Score  Monetary_Score Customer_RFM_Score  RFM_Label  \n",
       "24569                1               1                411          6  \n",
       "13272                3               3                333          9  \n",
       "15013                1               3                213          6  \n",
       "17029                3               2                132          6  \n",
       "24087                4               4                444         12  \n",
       "11353                4               3                243          9  \n",
       "17305                1               2                112          4  \n",
       "17244                3               3                133          7  "
      ]
     },
     "execution_count": 28,
     "metadata": {},
     "output_type": "execute_result"
    }
   ],
   "source": [
    "df_RFM['RFM_Label'] = df_RFM['Recency_Score'] + df_RFM['Frequency_Score'] + df_RFM['Monetary_Score']\n",
    "\n",
    "df_RFM.sample(8)"
   ]
  },
  {
   "cell_type": "code",
   "execution_count": 29,
   "metadata": {},
   "outputs": [
    {
     "data": {
      "text/html": [
       "<div>\n",
       "<style scoped>\n",
       "    .dataframe tbody tr th:only-of-type {\n",
       "        vertical-align: middle;\n",
       "    }\n",
       "\n",
       "    .dataframe tbody tr th {\n",
       "        vertical-align: top;\n",
       "    }\n",
       "\n",
       "    .dataframe thead th {\n",
       "        text-align: right;\n",
       "    }\n",
       "</style>\n",
       "<table border=\"1\" class=\"dataframe\">\n",
       "  <thead>\n",
       "    <tr style=\"text-align: right;\">\n",
       "      <th></th>\n",
       "      <th>Customer_Segment</th>\n",
       "      <th>RFM</th>\n",
       "    </tr>\n",
       "  </thead>\n",
       "  <tbody>\n",
       "    <tr>\n",
       "      <th>0</th>\n",
       "      <td>Champion</td>\n",
       "      <td>(2|3|4)-(4)-(4)</td>\n",
       "    </tr>\n",
       "    <tr>\n",
       "      <th>1</th>\n",
       "      <td>Top Loyal Customer</td>\n",
       "      <td>(3)-(1|2|3|4)-(3|4)</td>\n",
       "    </tr>\n",
       "    <tr>\n",
       "      <th>2</th>\n",
       "      <td>Loyal Customer</td>\n",
       "      <td>(3)-(1|2|3|4)-(1|2)</td>\n",
       "    </tr>\n",
       "    <tr>\n",
       "      <th>3</th>\n",
       "      <td>Top Recent Customer</td>\n",
       "      <td>(4)-(1|2|3|4)-(3|4)</td>\n",
       "    </tr>\n",
       "    <tr>\n",
       "      <th>4</th>\n",
       "      <td>Recent Customer</td>\n",
       "      <td>(4)-(1|2|3|4)-(1|2)</td>\n",
       "    </tr>\n",
       "    <tr>\n",
       "      <th>5</th>\n",
       "      <td>Top Customer Needed Attention</td>\n",
       "      <td>(2|3)-(1|2|3|4)-(3|4)</td>\n",
       "    </tr>\n",
       "    <tr>\n",
       "      <th>6</th>\n",
       "      <td>Customer Needed Attention</td>\n",
       "      <td>(2|3)-(1|2|3|4)-(1|2)</td>\n",
       "    </tr>\n",
       "    <tr>\n",
       "      <th>7</th>\n",
       "      <td>Top Lost Customer</td>\n",
       "      <td>(1)-(1|2|3|4)-(3|4)</td>\n",
       "    </tr>\n",
       "    <tr>\n",
       "      <th>8</th>\n",
       "      <td>Lost Customer</td>\n",
       "      <td>(1)-(1|2|3|4)-(1|2)</td>\n",
       "    </tr>\n",
       "  </tbody>\n",
       "</table>\n",
       "</div>"
      ],
      "text/plain": [
       "                Customer_Segment                    RFM\n",
       "0                       Champion        (2|3|4)-(4)-(4)\n",
       "1             Top Loyal Customer    (3)-(1|2|3|4)-(3|4)\n",
       "2                 Loyal Customer    (3)-(1|2|3|4)-(1|2)\n",
       "3            Top Recent Customer    (4)-(1|2|3|4)-(3|4)\n",
       "4                Recent Customer    (4)-(1|2|3|4)-(1|2)\n",
       "5  Top Customer Needed Attention  (2|3)-(1|2|3|4)-(3|4)\n",
       "6      Customer Needed Attention  (2|3)-(1|2|3|4)-(1|2)\n",
       "7              Top Lost Customer    (1)-(1|2|3|4)-(3|4)\n",
       "8                  Lost Customer    (1)-(1|2|3|4)-(1|2)"
      ]
     },
     "execution_count": 29,
     "metadata": {},
     "output_type": "execute_result"
    }
   ],
   "source": [
    "segments = {'Customer_Segment':['Champion', \n",
    "                                'Top Loyal Customer', \n",
    "                                'Loyal Customer', \n",
    "                                'Top Recent Customer', \n",
    "                                'Recent Customer', \n",
    "                                'Top Customer Needed Attention', \n",
    "                                'Customer Needed Attention', \n",
    "                                'Top Lost Customer', \n",
    "                                'Lost Customer'],\n",
    "            'RFM':['(2|3|4)-(4)-(4)', \n",
    "                   '(3)-(1|2|3|4)-(3|4)', \n",
    "                   '(3)-(1|2|3|4)-(1|2)', \n",
    "                   '(4)-(1|2|3|4)-(3|4)', \n",
    "                   '(4)-(1|2|3|4)-(1|2)',\n",
    "                   '(2|3)-(1|2|3|4)-(3|4)', \n",
    "                   '(2|3)-(1|2|3|4)-(1|2)',\n",
    "                   '(1)-(1|2|3|4)-(3|4)', \n",
    "                   '(1)-(1|2|3|4)-(1|2)',]}\n",
    "\n",
    "pd.DataFrame(segments)"
   ]
  },
  {
   "cell_type": "code",
   "execution_count": 30,
   "metadata": {},
   "outputs": [],
   "source": [
    "def categorizer(rfm):\n",
    "    \n",
    "    if (rfm[0] in ['2', '3', '4']) & (rfm[1] in ['4']) & (rfm[2] in ['4']):\n",
    "        rfm = 'Champion'\n",
    "        \n",
    "    elif (rfm[0] in ['3']) & (rfm[1] in ['1', '2', '3', '4']) & (rfm[2] in ['3', '4']):\n",
    "        rfm = 'Top Loyal Customer'\n",
    "        \n",
    "    elif (rfm[0] in ['3']) & (rfm[1] in ['1', '2', '3', '4']) & (rfm[2] in ['1', '2']):\n",
    "        rfm = 'Loyal Customer'\n",
    "    \n",
    "    elif (rfm[0] in ['4']) & (rfm[1] in ['1', '2', '3', '4']) & (rfm[2] in ['3', '4']):\n",
    "        rfm = 'Top Recent Customer'\n",
    "    \n",
    "    elif (rfm[0] in ['4']) & (rfm[1] in ['1', '2', '3', '4']) & (rfm[2] in ['1', '2']):\n",
    "        rfm = 'Recent Customer'\n",
    "    \n",
    "    elif (rfm[0] in ['2', '3']) & (rfm[1] in ['1', '2', '3', '4']) & (rfm[2] in ['3', '4']):\n",
    "        rfm = 'Top Customer Needed Attention'    \n",
    "   \n",
    "    elif (rfm[0] in ['2', '3']) & (rfm[1] in ['1', '2', '3', '4']) & (rfm[2] in ['1', '2']):\n",
    "        rfm = 'Customer Needed Attention'\n",
    "    \n",
    "    elif (rfm[0] in ['1']) & (rfm[1] in ['1', '2', '3', '4']) & (rfm[2] in ['3', '4']):\n",
    "        rfm = 'Top Lost Customer'\n",
    "                \n",
    "    elif (rfm[0] in ['1']) & (rfm[1] in ['1', '2', '3', '4']) & (rfm[2] in ['1', '2']):\n",
    "        rfm = 'Lost Customer'\n",
    "    \n",
    "    return rfm"
   ]
  },
  {
   "cell_type": "code",
   "execution_count": 31,
   "metadata": {},
   "outputs": [
    {
     "data": {
      "text/html": [
       "<div>\n",
       "<style scoped>\n",
       "    .dataframe tbody tr th:only-of-type {\n",
       "        vertical-align: middle;\n",
       "    }\n",
       "\n",
       "    .dataframe tbody tr th {\n",
       "        vertical-align: top;\n",
       "    }\n",
       "\n",
       "    .dataframe thead th {\n",
       "        text-align: right;\n",
       "    }\n",
       "</style>\n",
       "<table border=\"1\" class=\"dataframe\">\n",
       "  <thead>\n",
       "    <tr style=\"text-align: right;\">\n",
       "      <th></th>\n",
       "      <th>user_id</th>\n",
       "      <th>Recency</th>\n",
       "      <th>Frequency</th>\n",
       "      <th>Monetary</th>\n",
       "      <th>Recency_Score</th>\n",
       "      <th>Frequency_Score</th>\n",
       "      <th>Monetary_Score</th>\n",
       "      <th>Customer_RFM_Score</th>\n",
       "      <th>RFM_Label</th>\n",
       "      <th>Customer_Category</th>\n",
       "    </tr>\n",
       "  </thead>\n",
       "  <tbody>\n",
       "    <tr>\n",
       "      <th>0</th>\n",
       "      <td>12055855</td>\n",
       "      <td>11</td>\n",
       "      <td>4</td>\n",
       "      <td>16.54</td>\n",
       "      <td>3</td>\n",
       "      <td>3</td>\n",
       "      <td>2</td>\n",
       "      <td>332</td>\n",
       "      <td>8</td>\n",
       "      <td>Loyal Customer</td>\n",
       "    </tr>\n",
       "    <tr>\n",
       "      <th>1</th>\n",
       "      <td>15400971</td>\n",
       "      <td>18</td>\n",
       "      <td>3</td>\n",
       "      <td>35.71</td>\n",
       "      <td>2</td>\n",
       "      <td>2</td>\n",
       "      <td>3</td>\n",
       "      <td>223</td>\n",
       "      <td>7</td>\n",
       "      <td>Top Customer Needed Attention</td>\n",
       "    </tr>\n",
       "    <tr>\n",
       "      <th>2</th>\n",
       "      <td>25392526</td>\n",
       "      <td>13</td>\n",
       "      <td>3</td>\n",
       "      <td>22.14</td>\n",
       "      <td>3</td>\n",
       "      <td>2</td>\n",
       "      <td>2</td>\n",
       "      <td>322</td>\n",
       "      <td>7</td>\n",
       "      <td>Loyal Customer</td>\n",
       "    </tr>\n",
       "    <tr>\n",
       "      <th>3</th>\n",
       "      <td>28129653</td>\n",
       "      <td>21</td>\n",
       "      <td>13</td>\n",
       "      <td>42.85</td>\n",
       "      <td>2</td>\n",
       "      <td>4</td>\n",
       "      <td>4</td>\n",
       "      <td>244</td>\n",
       "      <td>10</td>\n",
       "      <td>Champion</td>\n",
       "    </tr>\n",
       "    <tr>\n",
       "      <th>4</th>\n",
       "      <td>31647175</td>\n",
       "      <td>2</td>\n",
       "      <td>2</td>\n",
       "      <td>15.88</td>\n",
       "      <td>4</td>\n",
       "      <td>2</td>\n",
       "      <td>2</td>\n",
       "      <td>422</td>\n",
       "      <td>8</td>\n",
       "      <td>Recent Customer</td>\n",
       "    </tr>\n",
       "    <tr>\n",
       "      <th>...</th>\n",
       "      <td>...</td>\n",
       "      <td>...</td>\n",
       "      <td>...</td>\n",
       "      <td>...</td>\n",
       "      <td>...</td>\n",
       "      <td>...</td>\n",
       "      <td>...</td>\n",
       "      <td>...</td>\n",
       "      <td>...</td>\n",
       "      <td>...</td>\n",
       "    </tr>\n",
       "    <tr>\n",
       "      <th>25608</th>\n",
       "      <td>595367593</td>\n",
       "      <td>0</td>\n",
       "      <td>4</td>\n",
       "      <td>21.27</td>\n",
       "      <td>4</td>\n",
       "      <td>3</td>\n",
       "      <td>2</td>\n",
       "      <td>432</td>\n",
       "      <td>9</td>\n",
       "      <td>Recent Customer</td>\n",
       "    </tr>\n",
       "    <tr>\n",
       "      <th>25609</th>\n",
       "      <td>595372293</td>\n",
       "      <td>0</td>\n",
       "      <td>2</td>\n",
       "      <td>42.54</td>\n",
       "      <td>4</td>\n",
       "      <td>2</td>\n",
       "      <td>4</td>\n",
       "      <td>424</td>\n",
       "      <td>10</td>\n",
       "      <td>Top Recent Customer</td>\n",
       "    </tr>\n",
       "    <tr>\n",
       "      <th>25610</th>\n",
       "      <td>595373694</td>\n",
       "      <td>0</td>\n",
       "      <td>1</td>\n",
       "      <td>19.83</td>\n",
       "      <td>4</td>\n",
       "      <td>1</td>\n",
       "      <td>2</td>\n",
       "      <td>412</td>\n",
       "      <td>7</td>\n",
       "      <td>Recent Customer</td>\n",
       "    </tr>\n",
       "    <tr>\n",
       "      <th>25611</th>\n",
       "      <td>595376179</td>\n",
       "      <td>0</td>\n",
       "      <td>9</td>\n",
       "      <td>46.49</td>\n",
       "      <td>4</td>\n",
       "      <td>4</td>\n",
       "      <td>4</td>\n",
       "      <td>444</td>\n",
       "      <td>12</td>\n",
       "      <td>Champion</td>\n",
       "    </tr>\n",
       "    <tr>\n",
       "      <th>25612</th>\n",
       "      <td>595413503</td>\n",
       "      <td>0</td>\n",
       "      <td>1</td>\n",
       "      <td>10.95</td>\n",
       "      <td>4</td>\n",
       "      <td>1</td>\n",
       "      <td>1</td>\n",
       "      <td>411</td>\n",
       "      <td>6</td>\n",
       "      <td>Recent Customer</td>\n",
       "    </tr>\n",
       "  </tbody>\n",
       "</table>\n",
       "<p>25613 rows × 10 columns</p>\n",
       "</div>"
      ],
      "text/plain": [
       "         user_id  Recency  Frequency  Monetary  Recency_Score  \\\n",
       "0       12055855       11          4     16.54              3   \n",
       "1       15400971       18          3     35.71              2   \n",
       "2       25392526       13          3     22.14              3   \n",
       "3       28129653       21         13     42.85              2   \n",
       "4       31647175        2          2     15.88              4   \n",
       "...          ...      ...        ...       ...            ...   \n",
       "25608  595367593        0          4     21.27              4   \n",
       "25609  595372293        0          2     42.54              4   \n",
       "25610  595373694        0          1     19.83              4   \n",
       "25611  595376179        0          9     46.49              4   \n",
       "25612  595413503        0          1     10.95              4   \n",
       "\n",
       "       Frequency_Score  Monetary_Score Customer_RFM_Score  RFM_Label  \\\n",
       "0                    3               2                332          8   \n",
       "1                    2               3                223          7   \n",
       "2                    2               2                322          7   \n",
       "3                    4               4                244         10   \n",
       "4                    2               2                422          8   \n",
       "...                ...             ...                ...        ...   \n",
       "25608                3               2                432          9   \n",
       "25609                2               4                424         10   \n",
       "25610                1               2                412          7   \n",
       "25611                4               4                444         12   \n",
       "25612                1               1                411          6   \n",
       "\n",
       "                   Customer_Category  \n",
       "0                     Loyal Customer  \n",
       "1      Top Customer Needed Attention  \n",
       "2                     Loyal Customer  \n",
       "3                           Champion  \n",
       "4                    Recent Customer  \n",
       "...                              ...  \n",
       "25608                Recent Customer  \n",
       "25609            Top Recent Customer  \n",
       "25610                Recent Customer  \n",
       "25611                       Champion  \n",
       "25612                Recent Customer  \n",
       "\n",
       "[25613 rows x 10 columns]"
      ]
     },
     "execution_count": 31,
     "metadata": {},
     "output_type": "execute_result"
    }
   ],
   "source": [
    "df_RFM['Customer_Category'] = df_RFM[\"Customer_RFM_Score\"].apply(categorizer)\n",
    "df_RFM"
   ]
  },
  {
   "cell_type": "code",
   "execution_count": 32,
   "metadata": {},
   "outputs": [
    {
     "data": {
      "text/plain": [
       "Customer_Category\n",
       "Recent Customer                  13.821106\n",
       "Customer Needed Attention        12.622496\n",
       "Lost Customer                    12.286729\n",
       "Top Lost Customer                11.790887\n",
       "Loyal Customer                   11.513684\n",
       "Champion                         11.298950\n",
       "Top Recent Customer               9.729434\n",
       "Top Customer Needed Attention     8.796314\n",
       "Top Loyal Customer                8.140397\n",
       "Name: proportion, dtype: float64"
      ]
     },
     "execution_count": 32,
     "metadata": {},
     "output_type": "execute_result"
    }
   ],
   "source": [
    "df_RFM['Customer_Category'].value_counts(dropna=False, normalize=True)*100"
   ]
  },
  {
   "cell_type": "code",
   "execution_count": 33,
   "metadata": {},
   "outputs": [
    {
     "data": {
      "text/html": [
       "<div>\n",
       "<style scoped>\n",
       "    .dataframe tbody tr th:only-of-type {\n",
       "        vertical-align: middle;\n",
       "    }\n",
       "\n",
       "    .dataframe tbody tr th {\n",
       "        vertical-align: top;\n",
       "    }\n",
       "\n",
       "    .dataframe thead th {\n",
       "        text-align: right;\n",
       "    }\n",
       "</style>\n",
       "<table border=\"1\" class=\"dataframe\">\n",
       "  <thead>\n",
       "    <tr style=\"text-align: right;\">\n",
       "      <th></th>\n",
       "      <th>count</th>\n",
       "    </tr>\n",
       "    <tr>\n",
       "      <th>Customer_Category</th>\n",
       "      <th></th>\n",
       "    </tr>\n",
       "  </thead>\n",
       "  <tbody>\n",
       "    <tr>\n",
       "      <th>Recent Customer</th>\n",
       "      <td>3540</td>\n",
       "    </tr>\n",
       "    <tr>\n",
       "      <th>Customer Needed Attention</th>\n",
       "      <td>3233</td>\n",
       "    </tr>\n",
       "    <tr>\n",
       "      <th>Lost Customer</th>\n",
       "      <td>3147</td>\n",
       "    </tr>\n",
       "    <tr>\n",
       "      <th>Top Lost Customer</th>\n",
       "      <td>3020</td>\n",
       "    </tr>\n",
       "    <tr>\n",
       "      <th>Loyal Customer</th>\n",
       "      <td>2949</td>\n",
       "    </tr>\n",
       "  </tbody>\n",
       "</table>\n",
       "</div>"
      ],
      "text/plain": [
       "                           count\n",
       "Customer_Category               \n",
       "Recent Customer             3540\n",
       "Customer Needed Attention   3233\n",
       "Lost Customer               3147\n",
       "Top Lost Customer           3020\n",
       "Loyal Customer              2949"
      ]
     },
     "execution_count": 33,
     "metadata": {},
     "output_type": "execute_result"
    }
   ],
   "source": [
    "Size_RFM_Label = df_RFM['Customer_Category'].value_counts()\n",
    "Size_RFM_Label_df = pd.DataFrame(Size_RFM_Label)\n",
    "Size_RFM_Label_df.head()"
   ]
  },
  {
   "cell_type": "code",
   "execution_count": 35,
   "metadata": {},
   "outputs": [
    {
     "data": {
      "application/vnd.plotly.v1+json": {
       "config": {
        "plotlyServerURL": "https://plot.ly"
       },
       "data": [
        {
         "branchvalues": "total",
         "domain": {
          "x": [
           0,
           1
          ],
          "y": [
           0,
           1
          ]
         },
         "hovertemplate": "labels=%{label}<br>count=%{value}<br>parent=%{parent}<br>id=%{id}<extra></extra>",
         "ids": [
          "Champion",
          "Customer Needed Attention",
          "Lost Customer",
          "Loyal Customer",
          "Recent Customer",
          "Top Customer Needed Attention",
          "Top Lost Customer",
          "Top Loyal Customer",
          "Top Recent Customer"
         ],
         "labels": [
          "Champion",
          "Customer Needed Attention",
          "Lost Customer",
          "Loyal Customer",
          "Recent Customer",
          "Top Customer Needed Attention",
          "Top Lost Customer",
          "Top Loyal Customer",
          "Top Recent Customer"
         ],
         "name": "",
         "parents": [
          "",
          "",
          "",
          "",
          "",
          "",
          "",
          "",
          ""
         ],
         "type": "treemap",
         "values": [
          2894,
          3233,
          3147,
          2949,
          3540,
          2253,
          3020,
          2085,
          2492
         ]
        }
       ],
       "layout": {
        "height": 600,
        "legend": {
         "tracegroupgap": 0
        },
        "margin": {
         "b": 25,
         "l": 25,
         "r": 25,
         "t": 50
        },
        "template": {
         "data": {
          "bar": [
           {
            "error_x": {
             "color": "#2a3f5f"
            },
            "error_y": {
             "color": "#2a3f5f"
            },
            "marker": {
             "line": {
              "color": "#E5ECF6",
              "width": 0.5
             },
             "pattern": {
              "fillmode": "overlay",
              "size": 10,
              "solidity": 0.2
             }
            },
            "type": "bar"
           }
          ],
          "barpolar": [
           {
            "marker": {
             "line": {
              "color": "#E5ECF6",
              "width": 0.5
             },
             "pattern": {
              "fillmode": "overlay",
              "size": 10,
              "solidity": 0.2
             }
            },
            "type": "barpolar"
           }
          ],
          "carpet": [
           {
            "aaxis": {
             "endlinecolor": "#2a3f5f",
             "gridcolor": "white",
             "linecolor": "white",
             "minorgridcolor": "white",
             "startlinecolor": "#2a3f5f"
            },
            "baxis": {
             "endlinecolor": "#2a3f5f",
             "gridcolor": "white",
             "linecolor": "white",
             "minorgridcolor": "white",
             "startlinecolor": "#2a3f5f"
            },
            "type": "carpet"
           }
          ],
          "choropleth": [
           {
            "colorbar": {
             "outlinewidth": 0,
             "ticks": ""
            },
            "type": "choropleth"
           }
          ],
          "contour": [
           {
            "colorbar": {
             "outlinewidth": 0,
             "ticks": ""
            },
            "colorscale": [
             [
              0,
              "#0d0887"
             ],
             [
              0.1111111111111111,
              "#46039f"
             ],
             [
              0.2222222222222222,
              "#7201a8"
             ],
             [
              0.3333333333333333,
              "#9c179e"
             ],
             [
              0.4444444444444444,
              "#bd3786"
             ],
             [
              0.5555555555555556,
              "#d8576b"
             ],
             [
              0.6666666666666666,
              "#ed7953"
             ],
             [
              0.7777777777777778,
              "#fb9f3a"
             ],
             [
              0.8888888888888888,
              "#fdca26"
             ],
             [
              1,
              "#f0f921"
             ]
            ],
            "type": "contour"
           }
          ],
          "contourcarpet": [
           {
            "colorbar": {
             "outlinewidth": 0,
             "ticks": ""
            },
            "type": "contourcarpet"
           }
          ],
          "heatmap": [
           {
            "colorbar": {
             "outlinewidth": 0,
             "ticks": ""
            },
            "colorscale": [
             [
              0,
              "#0d0887"
             ],
             [
              0.1111111111111111,
              "#46039f"
             ],
             [
              0.2222222222222222,
              "#7201a8"
             ],
             [
              0.3333333333333333,
              "#9c179e"
             ],
             [
              0.4444444444444444,
              "#bd3786"
             ],
             [
              0.5555555555555556,
              "#d8576b"
             ],
             [
              0.6666666666666666,
              "#ed7953"
             ],
             [
              0.7777777777777778,
              "#fb9f3a"
             ],
             [
              0.8888888888888888,
              "#fdca26"
             ],
             [
              1,
              "#f0f921"
             ]
            ],
            "type": "heatmap"
           }
          ],
          "heatmapgl": [
           {
            "colorbar": {
             "outlinewidth": 0,
             "ticks": ""
            },
            "colorscale": [
             [
              0,
              "#0d0887"
             ],
             [
              0.1111111111111111,
              "#46039f"
             ],
             [
              0.2222222222222222,
              "#7201a8"
             ],
             [
              0.3333333333333333,
              "#9c179e"
             ],
             [
              0.4444444444444444,
              "#bd3786"
             ],
             [
              0.5555555555555556,
              "#d8576b"
             ],
             [
              0.6666666666666666,
              "#ed7953"
             ],
             [
              0.7777777777777778,
              "#fb9f3a"
             ],
             [
              0.8888888888888888,
              "#fdca26"
             ],
             [
              1,
              "#f0f921"
             ]
            ],
            "type": "heatmapgl"
           }
          ],
          "histogram": [
           {
            "marker": {
             "pattern": {
              "fillmode": "overlay",
              "size": 10,
              "solidity": 0.2
             }
            },
            "type": "histogram"
           }
          ],
          "histogram2d": [
           {
            "colorbar": {
             "outlinewidth": 0,
             "ticks": ""
            },
            "colorscale": [
             [
              0,
              "#0d0887"
             ],
             [
              0.1111111111111111,
              "#46039f"
             ],
             [
              0.2222222222222222,
              "#7201a8"
             ],
             [
              0.3333333333333333,
              "#9c179e"
             ],
             [
              0.4444444444444444,
              "#bd3786"
             ],
             [
              0.5555555555555556,
              "#d8576b"
             ],
             [
              0.6666666666666666,
              "#ed7953"
             ],
             [
              0.7777777777777778,
              "#fb9f3a"
             ],
             [
              0.8888888888888888,
              "#fdca26"
             ],
             [
              1,
              "#f0f921"
             ]
            ],
            "type": "histogram2d"
           }
          ],
          "histogram2dcontour": [
           {
            "colorbar": {
             "outlinewidth": 0,
             "ticks": ""
            },
            "colorscale": [
             [
              0,
              "#0d0887"
             ],
             [
              0.1111111111111111,
              "#46039f"
             ],
             [
              0.2222222222222222,
              "#7201a8"
             ],
             [
              0.3333333333333333,
              "#9c179e"
             ],
             [
              0.4444444444444444,
              "#bd3786"
             ],
             [
              0.5555555555555556,
              "#d8576b"
             ],
             [
              0.6666666666666666,
              "#ed7953"
             ],
             [
              0.7777777777777778,
              "#fb9f3a"
             ],
             [
              0.8888888888888888,
              "#fdca26"
             ],
             [
              1,
              "#f0f921"
             ]
            ],
            "type": "histogram2dcontour"
           }
          ],
          "mesh3d": [
           {
            "colorbar": {
             "outlinewidth": 0,
             "ticks": ""
            },
            "type": "mesh3d"
           }
          ],
          "parcoords": [
           {
            "line": {
             "colorbar": {
              "outlinewidth": 0,
              "ticks": ""
             }
            },
            "type": "parcoords"
           }
          ],
          "pie": [
           {
            "automargin": true,
            "type": "pie"
           }
          ],
          "scatter": [
           {
            "fillpattern": {
             "fillmode": "overlay",
             "size": 10,
             "solidity": 0.2
            },
            "type": "scatter"
           }
          ],
          "scatter3d": [
           {
            "line": {
             "colorbar": {
              "outlinewidth": 0,
              "ticks": ""
             }
            },
            "marker": {
             "colorbar": {
              "outlinewidth": 0,
              "ticks": ""
             }
            },
            "type": "scatter3d"
           }
          ],
          "scattercarpet": [
           {
            "marker": {
             "colorbar": {
              "outlinewidth": 0,
              "ticks": ""
             }
            },
            "type": "scattercarpet"
           }
          ],
          "scattergeo": [
           {
            "marker": {
             "colorbar": {
              "outlinewidth": 0,
              "ticks": ""
             }
            },
            "type": "scattergeo"
           }
          ],
          "scattergl": [
           {
            "marker": {
             "colorbar": {
              "outlinewidth": 0,
              "ticks": ""
             }
            },
            "type": "scattergl"
           }
          ],
          "scattermapbox": [
           {
            "marker": {
             "colorbar": {
              "outlinewidth": 0,
              "ticks": ""
             }
            },
            "type": "scattermapbox"
           }
          ],
          "scatterpolar": [
           {
            "marker": {
             "colorbar": {
              "outlinewidth": 0,
              "ticks": ""
             }
            },
            "type": "scatterpolar"
           }
          ],
          "scatterpolargl": [
           {
            "marker": {
             "colorbar": {
              "outlinewidth": 0,
              "ticks": ""
             }
            },
            "type": "scatterpolargl"
           }
          ],
          "scatterternary": [
           {
            "marker": {
             "colorbar": {
              "outlinewidth": 0,
              "ticks": ""
             }
            },
            "type": "scatterternary"
           }
          ],
          "surface": [
           {
            "colorbar": {
             "outlinewidth": 0,
             "ticks": ""
            },
            "colorscale": [
             [
              0,
              "#0d0887"
             ],
             [
              0.1111111111111111,
              "#46039f"
             ],
             [
              0.2222222222222222,
              "#7201a8"
             ],
             [
              0.3333333333333333,
              "#9c179e"
             ],
             [
              0.4444444444444444,
              "#bd3786"
             ],
             [
              0.5555555555555556,
              "#d8576b"
             ],
             [
              0.6666666666666666,
              "#ed7953"
             ],
             [
              0.7777777777777778,
              "#fb9f3a"
             ],
             [
              0.8888888888888888,
              "#fdca26"
             ],
             [
              1,
              "#f0f921"
             ]
            ],
            "type": "surface"
           }
          ],
          "table": [
           {
            "cells": {
             "fill": {
              "color": "#EBF0F8"
             },
             "line": {
              "color": "white"
             }
            },
            "header": {
             "fill": {
              "color": "#C8D4E3"
             },
             "line": {
              "color": "white"
             }
            },
            "type": "table"
           }
          ]
         },
         "layout": {
          "annotationdefaults": {
           "arrowcolor": "#2a3f5f",
           "arrowhead": 0,
           "arrowwidth": 1
          },
          "autotypenumbers": "strict",
          "coloraxis": {
           "colorbar": {
            "outlinewidth": 0,
            "ticks": ""
           }
          },
          "colorscale": {
           "diverging": [
            [
             0,
             "#8e0152"
            ],
            [
             0.1,
             "#c51b7d"
            ],
            [
             0.2,
             "#de77ae"
            ],
            [
             0.3,
             "#f1b6da"
            ],
            [
             0.4,
             "#fde0ef"
            ],
            [
             0.5,
             "#f7f7f7"
            ],
            [
             0.6,
             "#e6f5d0"
            ],
            [
             0.7,
             "#b8e186"
            ],
            [
             0.8,
             "#7fbc41"
            ],
            [
             0.9,
             "#4d9221"
            ],
            [
             1,
             "#276419"
            ]
           ],
           "sequential": [
            [
             0,
             "#0d0887"
            ],
            [
             0.1111111111111111,
             "#46039f"
            ],
            [
             0.2222222222222222,
             "#7201a8"
            ],
            [
             0.3333333333333333,
             "#9c179e"
            ],
            [
             0.4444444444444444,
             "#bd3786"
            ],
            [
             0.5555555555555556,
             "#d8576b"
            ],
            [
             0.6666666666666666,
             "#ed7953"
            ],
            [
             0.7777777777777778,
             "#fb9f3a"
            ],
            [
             0.8888888888888888,
             "#fdca26"
            ],
            [
             1,
             "#f0f921"
            ]
           ],
           "sequentialminus": [
            [
             0,
             "#0d0887"
            ],
            [
             0.1111111111111111,
             "#46039f"
            ],
            [
             0.2222222222222222,
             "#7201a8"
            ],
            [
             0.3333333333333333,
             "#9c179e"
            ],
            [
             0.4444444444444444,
             "#bd3786"
            ],
            [
             0.5555555555555556,
             "#d8576b"
            ],
            [
             0.6666666666666666,
             "#ed7953"
            ],
            [
             0.7777777777777778,
             "#fb9f3a"
            ],
            [
             0.8888888888888888,
             "#fdca26"
            ],
            [
             1,
             "#f0f921"
            ]
           ]
          },
          "colorway": [
           "#636efa",
           "#EF553B",
           "#00cc96",
           "#ab63fa",
           "#FFA15A",
           "#19d3f3",
           "#FF6692",
           "#B6E880",
           "#FF97FF",
           "#FECB52"
          ],
          "font": {
           "color": "#2a3f5f"
          },
          "geo": {
           "bgcolor": "white",
           "lakecolor": "white",
           "landcolor": "#E5ECF6",
           "showlakes": true,
           "showland": true,
           "subunitcolor": "white"
          },
          "hoverlabel": {
           "align": "left"
          },
          "hovermode": "closest",
          "mapbox": {
           "style": "light"
          },
          "paper_bgcolor": "white",
          "plot_bgcolor": "#E5ECF6",
          "polar": {
           "angularaxis": {
            "gridcolor": "white",
            "linecolor": "white",
            "ticks": ""
           },
           "bgcolor": "#E5ECF6",
           "radialaxis": {
            "gridcolor": "white",
            "linecolor": "white",
            "ticks": ""
           }
          },
          "scene": {
           "xaxis": {
            "backgroundcolor": "#E5ECF6",
            "gridcolor": "white",
            "gridwidth": 2,
            "linecolor": "white",
            "showbackground": true,
            "ticks": "",
            "zerolinecolor": "white"
           },
           "yaxis": {
            "backgroundcolor": "#E5ECF6",
            "gridcolor": "white",
            "gridwidth": 2,
            "linecolor": "white",
            "showbackground": true,
            "ticks": "",
            "zerolinecolor": "white"
           },
           "zaxis": {
            "backgroundcolor": "#E5ECF6",
            "gridcolor": "white",
            "gridwidth": 2,
            "linecolor": "white",
            "showbackground": true,
            "ticks": "",
            "zerolinecolor": "white"
           }
          },
          "shapedefaults": {
           "line": {
            "color": "#2a3f5f"
           }
          },
          "ternary": {
           "aaxis": {
            "gridcolor": "white",
            "linecolor": "white",
            "ticks": ""
           },
           "baxis": {
            "gridcolor": "white",
            "linecolor": "white",
            "ticks": ""
           },
           "bgcolor": "#E5ECF6",
           "caxis": {
            "gridcolor": "white",
            "linecolor": "white",
            "ticks": ""
           }
          },
          "title": {
           "x": 0.05
          },
          "xaxis": {
           "automargin": true,
           "gridcolor": "white",
           "linecolor": "white",
           "ticks": "",
           "title": {
            "standoff": 15
           },
           "zerolinecolor": "white",
           "zerolinewidth": 2
          },
          "yaxis": {
           "automargin": true,
           "gridcolor": "white",
           "linecolor": "white",
           "ticks": "",
           "title": {
            "standoff": 15
           },
           "zerolinecolor": "white",
           "zerolinewidth": 2
          }
         }
        },
        "title": {
         "font": {
          "size": 20
         },
         "text": "The Size of Each Customer Segments",
         "x": 0.5
        },
        "width": 950
       }
      }
     },
     "metadata": {},
     "output_type": "display_data"
    }
   ],
   "source": [
    "fig = px.treemap(Size_RFM_Label_df, \n",
    "                 path=[Size_RFM_Label_df.index], \n",
    "                 values='count', \n",
    "                 width=950, height=600)\n",
    "\n",
    "fig.update_layout(title_text='The Size of Each Customer Segments',\n",
    "                  title_x=0.5, title_font=dict(size=20)\n",
    "                  )\n",
    "fig.update_layout(margin = dict(t=50, l=25, r=25, b=25))\n",
    "fig.show()"
   ]
  },
  {
   "cell_type": "code",
   "execution_count": null,
   "metadata": {},
   "outputs": [
    {
     "name": "stdout",
     "output_type": "stream",
     "text": [
      "Pliki zostały zapisane w folderze: /Users/iMac/Documents/Dataparapa/jdszr16-datapaparapa/user_id_export\n"
     ]
    }
   ],
   "source": [
    "# Do pobrania user_id (docelowo maile)\n",
    "\n",
    "# Ręczna definicja ścieżki do folderu\n",
    "selected_folder = \"ścieka do folderu lokalnego\"\n",
    "\n",
    "# Sprawdzenie, czy folder istnieje\n",
    "if not os.path.exists(selected_folder):\n",
    "    print(f\"Folder '{selected_folder}' nie istnieje. Upewnij się, że podałeś poprawną ścieżkę.\")\n",
    "else:\n",
    "    # Zapis plików do wybranego folderu\n",
    "    for category, group in df_RFM.groupby('Customer_Category'):\n",
    "        filename = os.path.join(selected_folder, f\"{category.replace(' ', '_').lower()}_users.csv\")\n",
    "        group[['user_id']].to_csv(filename, index=False)\n",
    "\n",
    "    print(f\"Pliki zostały zapisane w folderze: {selected_folder}\")"
   ]
  }
 ],
 "metadata": {
  "kernelspec": {
   "display_name": "data_science",
   "language": "python",
   "name": "python3"
  },
  "language_info": {
   "codemirror_mode": {
    "name": "ipython",
    "version": 3
   },
   "file_extension": ".py",
   "mimetype": "text/x-python",
   "name": "python",
   "nbconvert_exporter": "python",
   "pygments_lexer": "ipython3",
   "version": "3.11.9"
  }
 },
 "nbformat": 4,
 "nbformat_minor": 2
}
