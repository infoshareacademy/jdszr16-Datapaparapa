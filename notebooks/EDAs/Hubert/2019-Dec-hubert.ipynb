{
 "cells": [
  {
   "cell_type": "code",
   "execution_count": 1,
   "metadata": {},
   "outputs": [],
   "source": [
    "# Pobieranie bibliotek\n",
    "import numpy as np\n",
    "import pandas as pd\n",
    "import matplotlib.pyplot as plt\n",
    "import seaborn as sns\n",
    "import sklearn\n",
    "\n",
    "\n",
    "pd.set_option(\"display.max_columns\", None)\n",
    "pd.set_option('display.float_format', '{:.2f}'.format)"
   ]
  },
  {
   "cell_type": "code",
   "execution_count": 2,
   "metadata": {},
   "outputs": [
    {
     "data": {
      "text/html": [
       "<div>\n",
       "<style scoped>\n",
       "    .dataframe tbody tr th:only-of-type {\n",
       "        vertical-align: middle;\n",
       "    }\n",
       "\n",
       "    .dataframe tbody tr th {\n",
       "        vertical-align: top;\n",
       "    }\n",
       "\n",
       "    .dataframe thead th {\n",
       "        text-align: right;\n",
       "    }\n",
       "</style>\n",
       "<table border=\"1\" class=\"dataframe\">\n",
       "  <thead>\n",
       "    <tr style=\"text-align: right;\">\n",
       "      <th></th>\n",
       "      <th>event_time</th>\n",
       "      <th>event_type</th>\n",
       "      <th>product_id</th>\n",
       "      <th>category_id</th>\n",
       "      <th>category_code</th>\n",
       "      <th>brand</th>\n",
       "      <th>price</th>\n",
       "      <th>user_id</th>\n",
       "      <th>user_session</th>\n",
       "    </tr>\n",
       "  </thead>\n",
       "  <tbody>\n",
       "    <tr>\n",
       "      <th>0</th>\n",
       "      <td>2019-12-01 00:00:00 UTC</td>\n",
       "      <td>view</td>\n",
       "      <td>1005105</td>\n",
       "      <td>2232732093077520756</td>\n",
       "      <td>construction.tools.light</td>\n",
       "      <td>apple</td>\n",
       "      <td>1302.48</td>\n",
       "      <td>556695836</td>\n",
       "      <td>ca5eefc5-11f9-450c-91ed-380285a0bc80</td>\n",
       "    </tr>\n",
       "    <tr>\n",
       "      <th>1</th>\n",
       "      <td>2019-12-01 00:00:00 UTC</td>\n",
       "      <td>view</td>\n",
       "      <td>22700068</td>\n",
       "      <td>2232732091643068746</td>\n",
       "      <td>NaN</td>\n",
       "      <td>force</td>\n",
       "      <td>102.96</td>\n",
       "      <td>577702456</td>\n",
       "      <td>de33debe-c7bf-44e8-8a12-3bf8421f842a</td>\n",
       "    </tr>\n",
       "    <tr>\n",
       "      <th>2</th>\n",
       "      <td>2019-12-01 00:00:01 UTC</td>\n",
       "      <td>view</td>\n",
       "      <td>2402273</td>\n",
       "      <td>2232732100769874463</td>\n",
       "      <td>appliances.personal.massager</td>\n",
       "      <td>bosch</td>\n",
       "      <td>313.52</td>\n",
       "      <td>539453785</td>\n",
       "      <td>5ee185a7-0689-4a33-923d-ba0130929a76</td>\n",
       "    </tr>\n",
       "    <tr>\n",
       "      <th>3</th>\n",
       "      <td>2019-12-01 00:00:02 UTC</td>\n",
       "      <td>purchase</td>\n",
       "      <td>26400248</td>\n",
       "      <td>2053013553056579841</td>\n",
       "      <td>computers.peripherals.printer</td>\n",
       "      <td>NaN</td>\n",
       "      <td>132.31</td>\n",
       "      <td>535135317</td>\n",
       "      <td>61792a26-672f-4e61-9832-7b63bb1714db</td>\n",
       "    </tr>\n",
       "    <tr>\n",
       "      <th>4</th>\n",
       "      <td>2019-12-01 00:00:02 UTC</td>\n",
       "      <td>view</td>\n",
       "      <td>20100164</td>\n",
       "      <td>2232732110089618156</td>\n",
       "      <td>apparel.trousers</td>\n",
       "      <td>nika</td>\n",
       "      <td>101.68</td>\n",
       "      <td>517987650</td>\n",
       "      <td>906c6ca8-ff5c-419a-bde9-967ba8e2233e</td>\n",
       "    </tr>\n",
       "  </tbody>\n",
       "</table>\n",
       "</div>"
      ],
      "text/plain": [
       "                event_time event_type  product_id          category_id  \\\n",
       "0  2019-12-01 00:00:00 UTC       view     1005105  2232732093077520756   \n",
       "1  2019-12-01 00:00:00 UTC       view    22700068  2232732091643068746   \n",
       "2  2019-12-01 00:00:01 UTC       view     2402273  2232732100769874463   \n",
       "3  2019-12-01 00:00:02 UTC   purchase    26400248  2053013553056579841   \n",
       "4  2019-12-01 00:00:02 UTC       view    20100164  2232732110089618156   \n",
       "\n",
       "                   category_code  brand   price    user_id  \\\n",
       "0       construction.tools.light  apple 1302.48  556695836   \n",
       "1                            NaN  force  102.96  577702456   \n",
       "2   appliances.personal.massager  bosch  313.52  539453785   \n",
       "3  computers.peripherals.printer    NaN  132.31  535135317   \n",
       "4               apparel.trousers   nika  101.68  517987650   \n",
       "\n",
       "                           user_session  \n",
       "0  ca5eefc5-11f9-450c-91ed-380285a0bc80  \n",
       "1  de33debe-c7bf-44e8-8a12-3bf8421f842a  \n",
       "2  5ee185a7-0689-4a33-923d-ba0130929a76  \n",
       "3  61792a26-672f-4e61-9832-7b63bb1714db  \n",
       "4  906c6ca8-ff5c-419a-bde9-967ba8e2233e  "
      ]
     },
     "execution_count": 2,
     "metadata": {},
     "output_type": "execute_result"
    }
   ],
   "source": [
    "# Załadowanie datasetu\n",
    "\n",
    "df = pd.read_csv('/Users/iMac/Documents/Event datasets/multistore/2019-Dec.csv')\n",
    "df.head()"
   ]
  },
  {
   "cell_type": "code",
   "execution_count": 3,
   "metadata": {},
   "outputs": [
    {
     "name": "stdout",
     "output_type": "stream",
     "text": [
      "<class 'pandas.core.frame.DataFrame'>\n",
      "RangeIndex: 67542878 entries, 0 to 67542877\n",
      "Data columns (total 9 columns):\n",
      " #   Column         Dtype  \n",
      "---  ------         -----  \n",
      " 0   event_time     object \n",
      " 1   event_type     object \n",
      " 2   product_id     int64  \n",
      " 3   category_id    int64  \n",
      " 4   category_code  object \n",
      " 5   brand          object \n",
      " 6   price          float64\n",
      " 7   user_id        int64  \n",
      " 8   user_session   object \n",
      "dtypes: float64(1), int64(3), object(5)\n",
      "memory usage: 4.5+ GB\n"
     ]
    }
   ],
   "source": [
    "df.info()"
   ]
  },
  {
   "cell_type": "code",
   "execution_count": 4,
   "metadata": {},
   "outputs": [
    {
     "data": {
      "text/plain": [
       "event_time             0\n",
       "event_type             0\n",
       "product_id             0\n",
       "category_id            0\n",
       "category_code    7088848\n",
       "brand            8122410\n",
       "price                  0\n",
       "user_id                0\n",
       "user_session          21\n",
       "dtype: int64"
      ]
     },
     "execution_count": 4,
     "metadata": {},
     "output_type": "execute_result"
    }
   ],
   "source": [
    "df.isnull().sum()"
   ]
  },
  {
   "cell_type": "code",
   "execution_count": 7,
   "metadata": {},
   "outputs": [
    {
     "name": "stdout",
     "output_type": "stream",
     "text": [
      "112119\n"
     ]
    }
   ],
   "source": [
    "print(df.duplicated().sum())"
   ]
  },
  {
   "cell_type": "code",
   "execution_count": null,
   "metadata": {},
   "outputs": [],
   "source": [
    "df_1 = df.drop_duplicates()"
   ]
  },
  {
   "cell_type": "code",
   "execution_count": 23,
   "metadata": {},
   "outputs": [
    {
     "data": {
      "text/html": [
       "<div>\n",
       "<style scoped>\n",
       "    .dataframe tbody tr th:only-of-type {\n",
       "        vertical-align: middle;\n",
       "    }\n",
       "\n",
       "    .dataframe tbody tr th {\n",
       "        vertical-align: top;\n",
       "    }\n",
       "\n",
       "    .dataframe thead th {\n",
       "        text-align: right;\n",
       "    }\n",
       "</style>\n",
       "<table border=\"1\" class=\"dataframe\">\n",
       "  <thead>\n",
       "    <tr style=\"text-align: right;\">\n",
       "      <th></th>\n",
       "      <th>event_time</th>\n",
       "      <th>event_type</th>\n",
       "      <th>product_id</th>\n",
       "      <th>category_id</th>\n",
       "      <th>category_code</th>\n",
       "      <th>brand</th>\n",
       "      <th>price</th>\n",
       "      <th>user_id</th>\n",
       "      <th>user_session</th>\n",
       "    </tr>\n",
       "  </thead>\n",
       "  <tbody>\n",
       "    <tr>\n",
       "      <th>0</th>\n",
       "      <td>2019-12-01 00:00:00 UTC</td>\n",
       "      <td>view</td>\n",
       "      <td>1005105</td>\n",
       "      <td>2232732093077520756</td>\n",
       "      <td>construction.tools.light</td>\n",
       "      <td>apple</td>\n",
       "      <td>1302.48</td>\n",
       "      <td>556695836</td>\n",
       "      <td>ca5eefc5-11f9-450c-91ed-380285a0bc80</td>\n",
       "    </tr>\n",
       "    <tr>\n",
       "      <th>1</th>\n",
       "      <td>2019-12-01 00:00:00 UTC</td>\n",
       "      <td>view</td>\n",
       "      <td>22700068</td>\n",
       "      <td>2232732091643068746</td>\n",
       "      <td>NaN</td>\n",
       "      <td>force</td>\n",
       "      <td>102.96</td>\n",
       "      <td>577702456</td>\n",
       "      <td>de33debe-c7bf-44e8-8a12-3bf8421f842a</td>\n",
       "    </tr>\n",
       "    <tr>\n",
       "      <th>2</th>\n",
       "      <td>2019-12-01 00:00:01 UTC</td>\n",
       "      <td>view</td>\n",
       "      <td>2402273</td>\n",
       "      <td>2232732100769874463</td>\n",
       "      <td>appliances.personal.massager</td>\n",
       "      <td>bosch</td>\n",
       "      <td>313.52</td>\n",
       "      <td>539453785</td>\n",
       "      <td>5ee185a7-0689-4a33-923d-ba0130929a76</td>\n",
       "    </tr>\n",
       "    <tr>\n",
       "      <th>3</th>\n",
       "      <td>2019-12-01 00:00:02 UTC</td>\n",
       "      <td>purchase</td>\n",
       "      <td>26400248</td>\n",
       "      <td>2053013553056579841</td>\n",
       "      <td>computers.peripherals.printer</td>\n",
       "      <td>NaN</td>\n",
       "      <td>132.31</td>\n",
       "      <td>535135317</td>\n",
       "      <td>61792a26-672f-4e61-9832-7b63bb1714db</td>\n",
       "    </tr>\n",
       "    <tr>\n",
       "      <th>4</th>\n",
       "      <td>2019-12-01 00:00:02 UTC</td>\n",
       "      <td>view</td>\n",
       "      <td>20100164</td>\n",
       "      <td>2232732110089618156</td>\n",
       "      <td>apparel.trousers</td>\n",
       "      <td>nika</td>\n",
       "      <td>101.68</td>\n",
       "      <td>517987650</td>\n",
       "      <td>906c6ca8-ff5c-419a-bde9-967ba8e2233e</td>\n",
       "    </tr>\n",
       "  </tbody>\n",
       "</table>\n",
       "</div>"
      ],
      "text/plain": [
       "                event_time event_type  product_id          category_id  \\\n",
       "0  2019-12-01 00:00:00 UTC       view     1005105  2232732093077520756   \n",
       "1  2019-12-01 00:00:00 UTC       view    22700068  2232732091643068746   \n",
       "2  2019-12-01 00:00:01 UTC       view     2402273  2232732100769874463   \n",
       "3  2019-12-01 00:00:02 UTC   purchase    26400248  2053013553056579841   \n",
       "4  2019-12-01 00:00:02 UTC       view    20100164  2232732110089618156   \n",
       "\n",
       "                   category_code  brand   price    user_id  \\\n",
       "0       construction.tools.light  apple 1302.48  556695836   \n",
       "1                            NaN  force  102.96  577702456   \n",
       "2   appliances.personal.massager  bosch  313.52  539453785   \n",
       "3  computers.peripherals.printer    NaN  132.31  535135317   \n",
       "4               apparel.trousers   nika  101.68  517987650   \n",
       "\n",
       "                           user_session  \n",
       "0  ca5eefc5-11f9-450c-91ed-380285a0bc80  \n",
       "1  de33debe-c7bf-44e8-8a12-3bf8421f842a  \n",
       "2  5ee185a7-0689-4a33-923d-ba0130929a76  \n",
       "3  61792a26-672f-4e61-9832-7b63bb1714db  \n",
       "4  906c6ca8-ff5c-419a-bde9-967ba8e2233e  "
      ]
     },
     "execution_count": 23,
     "metadata": {},
     "output_type": "execute_result"
    }
   ],
   "source": [
    "df_1.head()"
   ]
  },
  {
   "cell_type": "code",
   "execution_count": null,
   "metadata": {},
   "outputs": [
    {
     "name": "stdout",
     "output_type": "stream",
     "text": [
      "Index(['event_time', 'event_type', 'category_code', 'brand', 'user_session'], dtype='object')\n",
      "Index(['product_id', 'category_id', 'user_id'], dtype='object')\n"
     ]
    }
   ],
   "source": [
    "#Posegregowanie kolumn na te które posiadają wartości kategoryczne i numeryczne\n",
    "\n",
    "object_columns  = df_1.select_dtypes(['object']).columns\n",
    "\n",
    "int_columns  = df_1.select_dtypes(['int64']).columns\n",
    "\n",
    "print(object_columns)\n",
    "print(int_columns)"
   ]
  },
  {
   "cell_type": "code",
   "execution_count": 9,
   "metadata": {},
   "outputs": [
    {
     "data": {
      "text/html": [
       "<div>\n",
       "<style scoped>\n",
       "    .dataframe tbody tr th:only-of-type {\n",
       "        vertical-align: middle;\n",
       "    }\n",
       "\n",
       "    .dataframe tbody tr th {\n",
       "        vertical-align: top;\n",
       "    }\n",
       "\n",
       "    .dataframe thead th {\n",
       "        text-align: right;\n",
       "    }\n",
       "</style>\n",
       "<table border=\"1\" class=\"dataframe\">\n",
       "  <thead>\n",
       "    <tr style=\"text-align: right;\">\n",
       "      <th></th>\n",
       "      <th>product_id</th>\n",
       "      <th>category_id</th>\n",
       "      <th>price</th>\n",
       "      <th>user_id</th>\n",
       "    </tr>\n",
       "  </thead>\n",
       "  <tbody>\n",
       "    <tr>\n",
       "      <th>count</th>\n",
       "      <td>67430759.00</td>\n",
       "      <td>67430759.00</td>\n",
       "      <td>67430759.00</td>\n",
       "      <td>67430759.00</td>\n",
       "    </tr>\n",
       "    <tr>\n",
       "      <th>mean</th>\n",
       "      <td>17632129.80</td>\n",
       "      <td>2179029002724050688.00</td>\n",
       "      <td>274.81</td>\n",
       "      <td>548109128.18</td>\n",
       "    </tr>\n",
       "    <tr>\n",
       "      <th>std</th>\n",
       "      <td>27307943.11</td>\n",
       "      <td>81677991335484688.00</td>\n",
       "      <td>348.11</td>\n",
       "      <td>28593510.20</td>\n",
       "    </tr>\n",
       "    <tr>\n",
       "      <th>min</th>\n",
       "      <td>1000544.00</td>\n",
       "      <td>2053013551865397504.00</td>\n",
       "      <td>0.00</td>\n",
       "      <td>29515875.00</td>\n",
       "    </tr>\n",
       "    <tr>\n",
       "      <th>25%</th>\n",
       "      <td>1005273.00</td>\n",
       "      <td>2053013563693335296.00</td>\n",
       "      <td>61.46</td>\n",
       "      <td>518836205.00</td>\n",
       "    </tr>\n",
       "    <tr>\n",
       "      <th>50%</th>\n",
       "      <td>5300101.00</td>\n",
       "      <td>2232732093077520640.00</td>\n",
       "      <td>154.42</td>\n",
       "      <td>546861340.00</td>\n",
       "    </tr>\n",
       "    <tr>\n",
       "      <th>75%</th>\n",
       "      <td>21404032.00</td>\n",
       "      <td>2232732097708032512.00</td>\n",
       "      <td>332.03</td>\n",
       "      <td>573971369.00</td>\n",
       "    </tr>\n",
       "    <tr>\n",
       "      <th>max</th>\n",
       "      <td>100064491.00</td>\n",
       "      <td>2232732138325672448.00</td>\n",
       "      <td>2574.07</td>\n",
       "      <td>595414563.00</td>\n",
       "    </tr>\n",
       "  </tbody>\n",
       "</table>\n",
       "</div>"
      ],
      "text/plain": [
       "        product_id            category_id       price      user_id\n",
       "count  67430759.00            67430759.00 67430759.00  67430759.00\n",
       "mean   17632129.80 2179029002724050688.00      274.81 548109128.18\n",
       "std    27307943.11   81677991335484688.00      348.11  28593510.20\n",
       "min     1000544.00 2053013551865397504.00        0.00  29515875.00\n",
       "25%     1005273.00 2053013563693335296.00       61.46 518836205.00\n",
       "50%     5300101.00 2232732093077520640.00      154.42 546861340.00\n",
       "75%    21404032.00 2232732097708032512.00      332.03 573971369.00\n",
       "max   100064491.00 2232732138325672448.00     2574.07 595414563.00"
      ]
     },
     "execution_count": 9,
     "metadata": {},
     "output_type": "execute_result"
    }
   ],
   "source": [
    "df_1.describe()"
   ]
  },
  {
   "cell_type": "code",
   "execution_count": 19,
   "metadata": {},
   "outputs": [
    {
     "name": "stdout",
     "output_type": "stream",
     "text": [
      "event_time\n",
      "2019-12-25 15:46:35 UTC    146\n",
      "2019-12-26 05:45:32 UTC    143\n",
      "2019-12-24 09:13:14 UTC    142\n",
      "2019-12-29 14:20:50 UTC    139\n",
      "2019-12-29 10:55:06 UTC    138\n",
      "                          ... \n",
      "2019-12-08 23:20:25 UTC      1\n",
      "2019-12-08 23:20:21 UTC      1\n",
      "2019-12-08 23:20:14 UTC      1\n",
      "2019-12-08 23:20:04 UTC      1\n",
      "2019-12-10 23:30:23 UTC      1\n",
      "Name: count, Length: 2654047, dtype: int64\n",
      "\n",
      "**************\n",
      "\n",
      "event_type\n",
      "view        62984129\n",
      "cart         3284602\n",
      "purchase     1162028\n",
      "Name: count, dtype: int64\n",
      "\n",
      "**************\n",
      "\n",
      "category_code\n",
      "construction.tools.light            16472151\n",
      "electronics.clocks                   2738224\n",
      "appliances.personal.massager         2608270\n",
      "apparel.shoes                        2539909\n",
      "appliances.kitchen.refrigerators     2397766\n",
      "                                      ...   \n",
      "appliances.environment.fan              5347\n",
      "appliances.kitchen.microwave            3594\n",
      "computers.components.sound_card         3470\n",
      "auto.accessories.light                   632\n",
      "country_yard.furniture.bench               1\n",
      "Name: count, Length: 135, dtype: int64\n",
      "\n",
      "**************\n",
      "\n",
      "brand\n",
      "samsung     8511635\n",
      "apple       5580611\n",
      "xiaomi      5199650\n",
      "huawei      1898796\n",
      "lucente     1267492\n",
      "             ...   \n",
      "mr.fun            1\n",
      "torgue            1\n",
      "kingstar          1\n",
      "steba             1\n",
      "camino            1\n",
      "Name: count, Length: 4637, dtype: int64\n",
      "\n",
      "**************\n",
      "\n",
      "user_session\n",
      "aa2474fe-b8f8-4129-9536-009c2e4f5255    5065\n",
      "41f8c35b-3a96-4e1f-80a2-5b5d5f866a73    2233\n",
      "d141b3ae-eaff-4b00-bdb9-635167888d82    1747\n",
      "4811d7fa-f6f1-480f-a121-9a4fd52a401d    1700\n",
      "eaff4fcf-6a87-43b0-8d39-2aa1dafe9b22    1700\n",
      "                                        ... \n",
      "da8a2d31-40cd-41cb-8e1d-112342336cc1       1\n",
      "ea4e5d93-002e-4dc1-986f-caa25d1e835f       1\n",
      "7c99f522-5bf0-91fa-e35f-4838cb1654ef       1\n",
      "05c296d6-6602-439a-ab2c-78ac0d4d9d0e       1\n",
      "8e2ebe56-9fce-4b0f-a11f-f258c9f97568       1\n",
      "Name: count, Length: 15581360, dtype: int64\n",
      "\n",
      "**************\n",
      "\n"
     ]
    }
   ],
   "source": [
    "#Przegląd wartości i ich liczebności w zmiennych kategorycznych\n",
    "\n",
    "for col in object_columns:\n",
    "    print(df_1[col].value_counts())\n",
    "    print(\"\\n**************\\n\")"
   ]
  },
  {
   "cell_type": "code",
   "execution_count": 24,
   "metadata": {},
   "outputs": [
    {
     "name": "stderr",
     "output_type": "stream",
     "text": [
      "/var/folders/rj/74569_hj08dczy17w0prp9br0000gp/T/ipykernel_15907/1416269897.py:5: SettingWithCopyWarning: \n",
      "A value is trying to be set on a copy of a slice from a DataFrame.\n",
      "Try using .loc[row_indexer,col_indexer] = value instead\n",
      "\n",
      "See the caveats in the documentation: https://pandas.pydata.org/pandas-docs/stable/user_guide/indexing.html#returning-a-view-versus-a-copy\n",
      "  purchases['hour'] = purchases['event_time'].dt.hour\n"
     ]
    },
    {
     "data": {
      "image/png": "[encoded data removed]",
      "text/plain": [
       "<Figure size 1000x500 with 1 Axes>"
      ]
     },
     "metadata": {},
     "output_type": "display_data"
    }
   ],
   "source": [
    "# Filtruj zdarzenia typu 'purchase'\n",
    "purchases = df[df['event_type'] == 'purchase']\n",
    "\n",
    "# Wyciągnij godzinę z czasu zdarzenia\n",
    "purchases['hour'] = purchases['event_time'].dt.hour\n",
    "\n",
    "# Grupuj zakupy według godzin\n",
    "hourly_purchases = purchases['hour'].value_counts().sort_index()\n",
    "\n",
    "# Wizualizacja\n",
    "hourly_purchases.plot(kind='bar', title='Rozkład zakupów według godzin (1 AM - 12 PM)', figsize=(10, 5))\n",
    "plt.xlabel('Godzina')\n",
    "plt.ylabel('Liczba zakupów')\n",
    "plt.show()\n"
   ]
  },
  {
   "cell_type": "code",
   "execution_count": null,
   "metadata": {},
   "outputs": [
    {
     "name": "stderr",
     "output_type": "stream",
     "text": [
      "/var/folders/rj/74569_hj08dczy17w0prp9br0000gp/T/ipykernel_15907/3612480547.py:2: SettingWithCopyWarning: \n",
      "A value is trying to be set on a copy of a slice from a DataFrame.\n",
      "Try using .loc[row_indexer,col_indexer] = value instead\n",
      "\n",
      "See the caveats in the documentation: https://pandas.pydata.org/pandas-docs/stable/user_guide/indexing.html#returning-a-view-versus-a-copy\n",
      "  purchases['weekday'] = purchases['event_time'].dt.day_name()  # Nazwa dnia tygodnia\n"
     ]
    },
    {
     "data": {
      "image/png": "[encoded data removed]",
      "text/plain": [
       "<Figure size 1000x500 with 1 Axes>"
      ]
     },
     "metadata": {},
     "output_type": "display_data"
    }
   ],
   "source": [
    "# Wyciągnij dzień tygodnia z czasu zdarzenia\n",
    "purchases['weekday'] = purchases['event_time'].dt.day_name()  # Nazwa dnia tygodnia\n",
    "\n",
    "# Grupuj zakupy według dni tygodnia\n",
    "weekday_purchases = purchases['weekday'].value_counts()\n",
    "\n",
    "# Wizualizacja\n",
    "weekday_purchases.plot(kind='bar', title='Rozkład zakupów według dni tygodnia', figsize=(10, 5))\n",
    "plt.xlabel('Dzień tygodnia')\n",
    "plt.ylabel('Liczba zakupów')\n",
    "plt.show()\n"
   ]
  },
  {
   "cell_type": "code",
   "execution_count": 25,
   "metadata": {},
   "outputs": [
    {
     "name": "stdout",
     "output_type": "stream",
     "text": [
      "Rozkład zakupów według dni miesiąca:\n",
      "day_of_month\n",
      "1     28345\n",
      "2     28548\n",
      "3     24358\n",
      "4     24473\n",
      "5     25469\n",
      "6     27505\n",
      "7     27012\n",
      "8     25766\n",
      "9     26802\n",
      "10    27059\n",
      "11    25906\n",
      "12    26044\n",
      "13    26712\n",
      "14    26559\n",
      "15    35077\n",
      "16    63796\n",
      "17    51899\n",
      "18    49578\n",
      "19    48212\n",
      "20    46405\n",
      "21    44255\n",
      "22    44719\n",
      "23    46602\n",
      "24    44917\n",
      "25    44949\n",
      "26    44154\n",
      "27    43081\n",
      "28    45287\n",
      "29    49597\n",
      "30    50729\n",
      "31    38233\n",
      "Name: count, dtype: int64\n"
     ]
    },
    {
     "name": "stderr",
     "output_type": "stream",
     "text": [
      "/var/folders/rj/74569_hj08dczy17w0prp9br0000gp/T/ipykernel_15907/134590384.py:2: SettingWithCopyWarning: \n",
      "A value is trying to be set on a copy of a slice from a DataFrame.\n",
      "Try using .loc[row_indexer,col_indexer] = value instead\n",
      "\n",
      "See the caveats in the documentation: https://pandas.pydata.org/pandas-docs/stable/user_guide/indexing.html#returning-a-view-versus-a-copy\n",
      "  purchases['day_of_month'] = purchases['event_time'].dt.day\n"
     ]
    },
    {
     "data": {
      "image/png": "[encoded data removed]",
      "text/plain": [
       "<Figure size 1000x500 with 1 Axes>"
      ]
     },
     "metadata": {},
     "output_type": "display_data"
    }
   ],
   "source": [
    "# Wyciągnij dzień miesiąca z czasu zdarzenia\n",
    "purchases['day_of_month'] = purchases['event_time'].dt.day\n",
    "\n",
    "# Grupuj zakupy według dni miesiąca\n",
    "day_of_month_purchases = purchases['day_of_month'].value_counts().sort_index()\n",
    "\n",
    "print(\"Rozkład zakupów według dni miesiąca:\")\n",
    "print(day_of_month_purchases)\n",
    "\n",
    "# Wizualizacja\n",
    "day_of_month_purchases.plot(kind='bar', title='Rozkład zakupów według dni miesiąca', figsize=(10, 5))\n",
    "plt.xlabel('Dzień miesiąca')\n",
    "plt.ylabel('Liczba zakupów')\n",
    "plt.show()"
   ]
  },
  {
   "cell_type": "code",
   "execution_count": 13,
   "metadata": {},
   "outputs": [
    {
     "name": "stdout",
     "output_type": "stream",
     "text": [
      "event_type\n",
      "view       93.25\n",
      "cart        5.03\n",
      "purchase    1.72\n",
      "Name: proportion, dtype: float64\n"
     ]
    },
    {
     "data": {
      "text/plain": [
       "<Axes: title={'center': 'Rozkład typów zdarzeń'}, xlabel='event_type'>"
      ]
     },
     "execution_count": 13,
     "metadata": {},
     "output_type": "execute_result"
    },
    {
     "data": {
      "image/png": "[encoded data removed]",
      "text/plain": [
       "<Figure size 640x480 with 1 Axes>"
      ]
     },
     "metadata": {},
     "output_type": "display_data"
    }
   ],
   "source": [
    "print(df['event_type'].value_counts(normalize=True) * 100)  # Procentowy udział zdarzeń\n",
    "df['event_type'].value_counts().plot(kind='bar', title='Rozkład typów zdarzeń')  # Wykres\n"
   ]
  },
  {
   "cell_type": "code",
   "execution_count": 14,
   "metadata": {},
   "outputs": [
    {
     "name": "stdout",
     "output_type": "stream",
     "text": [
      "Najpopularniejsze produkty dla zdarzenia: view\n",
      "product_id\n",
      "1004767    704209\n",
      "1004856    553145\n",
      "1005115    491605\n",
      "1005160    347399\n",
      "1005100    321313\n",
      "1004870    287146\n",
      "4804056    277432\n",
      "1005105    248844\n",
      "1002544    242808\n",
      "1004873    236560\n",
      "Name: count, dtype: int64\n",
      "\n",
      "Najpopularniejsze produkty dla zdarzenia: purchase\n",
      "product_id\n",
      "1004856    34545\n",
      "1004767    34256\n",
      "1005115    26464\n",
      "1005100    23457\n",
      "4804056    22496\n",
      "1002544    18606\n",
      "1004870    13637\n",
      "1005212    12071\n",
      "1004249    11435\n",
      "1005160    10850\n",
      "Name: count, dtype: int64\n",
      "\n",
      "Najpopularniejsze produkty dla zdarzenia: cart\n",
      "product_id\n",
      "1004767    90325\n",
      "1004856    81415\n",
      "1005115    62735\n",
      "1005100    57100\n",
      "4804056    54933\n",
      "1002544    39013\n",
      "1004870    38335\n",
      "5100816    34753\n",
      "1005160    33328\n",
      "1005212    30750\n",
      "Name: count, dtype: int64\n",
      "\n"
     ]
    }
   ],
   "source": [
    "# Filtracja i analiza dla każdego zdarzenia\n",
    "event_types = df['event_type'].unique()  # Pobierz unikalne typy zdarzeń\n",
    "for event in event_types:\n",
    "    print(f\"Najpopularniejsze produkty dla zdarzenia: {event}\")\n",
    "    popular_products = df[df['event_type'] == event]['product_id'].value_counts().head(10)\n",
    "    print(popular_products)\n",
    "    print()"
   ]
  },
  {
   "cell_type": "code",
   "execution_count": 15,
   "metadata": {},
   "outputs": [
    {
     "name": "stdout",
     "output_type": "stream",
     "text": [
      "Najpopularniejsze kategorie dla zdarzenia: view\n",
      "category_code\n",
      "construction.tools.light            14696444\n",
      "electronics.clocks                   2599867\n",
      "appliances.personal.massager         2429906\n",
      "apparel.shoes                        2380654\n",
      "appliances.kitchen.refrigerators     2275993\n",
      "sport.bicycle                        2135255\n",
      "computers.peripherals.printer        1343419\n",
      "appliances.environment.vacuum        1326078\n",
      "electronics.audio.headphone          1306549\n",
      "apparel.shoes.sandals                1047522\n",
      "Name: count, dtype: int64\n",
      "\n",
      "Najpopularniejsze kategorie dla zdarzenia: purchase\n",
      "category_code\n",
      "construction.tools.light            502073\n",
      "sport.bicycle                        58750\n",
      "appliances.personal.massager         45633\n",
      "apparel.shoes                        38456\n",
      "electronics.clocks                   37640\n",
      "appliances.kitchen.refrigerators     31800\n",
      "appliances.environment.vacuum        22220\n",
      "appliances.kitchen.washer            19533\n",
      "electronics.audio.headphone          18887\n",
      "apparel.shoes.sandals                16271\n",
      "Name: count, dtype: int64\n",
      "\n",
      "Najpopularniejsze kategorie dla zdarzenia: cart\n",
      "category_code\n",
      "construction.tools.light            1320744\n",
      "sport.bicycle                        170131\n",
      "appliances.personal.massager         137978\n",
      "apparel.shoes                        123916\n",
      "electronics.clocks                   103032\n",
      "appliances.kitchen.refrigerators      93579\n",
      "appliances.environment.vacuum         65041\n",
      "appliances.kitchen.washer             60529\n",
      "electronics.audio.headphone           49454\n",
      "apparel.shoes.sandals                 47059\n",
      "Name: count, dtype: int64\n",
      "\n"
     ]
    }
   ],
   "source": [
    "# Filtracja i analiza dla kategorii\n",
    "for event in event_types:\n",
    "    print(f\"Najpopularniejsze kategorie dla zdarzenia: {event}\")\n",
    "    popular_categories = df[df['event_type'] == event]['category_code'].value_counts().head(10)\n",
    "    print(popular_categories)\n",
    "    print()"
   ]
  },
  {
   "cell_type": "code",
   "execution_count": 16,
   "metadata": {},
   "outputs": [
    {
     "name": "stdout",
     "output_type": "stream",
     "text": [
      "Najpopularniejsze marki dla zdarzenia: view\n",
      "brand\n",
      "samsung    7574471\n",
      "apple      4880397\n",
      "xiaomi     4766990\n",
      "huawei     1736478\n",
      "lucente    1197092\n",
      "lg          878732\n",
      "sony        853245\n",
      "bosch       711264\n",
      "oppo        703464\n",
      "artel       622026\n",
      "Name: count, dtype: int64\n",
      "\n",
      "Najpopularniejsze marki dla zdarzenia: purchase\n",
      "brand\n",
      "samsung    265941\n",
      "apple      209512\n",
      "xiaomi     101820\n",
      "huawei      45118\n",
      "lucente     21714\n",
      "oppo        19843\n",
      "sony        16625\n",
      "lg          16191\n",
      "artel       11422\n",
      "lenovo       8711\n",
      "Name: count, dtype: int64\n",
      "\n",
      "Najpopularniejsze marki dla zdarzenia: cart\n",
      "brand\n",
      "samsung     699987\n",
      "apple       504848\n",
      "xiaomi      339829\n",
      "huawei      121527\n",
      "lucente      50696\n",
      "sony         49207\n",
      "oppo         49111\n",
      "lg           48934\n",
      "artel        37153\n",
      "cordiant     33297\n",
      "Name: count, dtype: int64\n",
      "\n"
     ]
    }
   ],
   "source": [
    "# Filtracja i analiza dla marek\n",
    "for event in event_types:\n",
    "    print(f\"Najpopularniejsze marki dla zdarzenia: {event}\")\n",
    "    popular_brands = df[df['event_type'] == event]['brand'].value_counts().head(10)\n",
    "    print(popular_brands)\n",
    "    print()"
   ]
  },
  {
   "cell_type": "code",
   "execution_count": 26,
   "metadata": {},
   "outputs": [],
   "source": [
    "# Filtracja zdarzeń typu 'purchase'\n",
    "purchase_events = df[df['event_type'] == 'purchase']"
   ]
  },
  {
   "cell_type": "code",
   "execution_count": 32,
   "metadata": {},
   "outputs": [
    {
     "name": "stdout",
     "output_type": "stream",
     "text": [
      "Q1: 84.02, Q2 (mediana): 176.84, Q3: 344.38\n"
     ]
    },
    {
     "name": "stderr",
     "output_type": "stream",
     "text": [
      "/var/folders/rj/74569_hj08dczy17w0prp9br0000gp/T/ipykernel_15907/3907636253.py:10: SettingWithCopyWarning: \n",
      "A value is trying to be set on a copy of a slice from a DataFrame.\n",
      "Try using .loc[row_indexer,col_indexer] = value instead\n",
      "\n",
      "See the caveats in the documentation: https://pandas.pydata.org/pandas-docs/stable/user_guide/indexing.html#returning-a-view-versus-a-copy\n",
      "  purchase_events['price_range'] = pd.cut(purchase_events['price'], bins=bins, labels=labels, include_lowest=True)\n",
      "/var/folders/rj/74569_hj08dczy17w0prp9br0000gp/T/ipykernel_15907/3907636253.py:13: FutureWarning: The default of observed=False is deprecated and will be changed to True in a future version of pandas. Pass observed=False to retain current behavior or observed=True to adopt the future default and silence this warning.\n",
      "  price_range_analysis = purchase_events.groupby(['category_code', 'price_range']).size().unstack(fill_value=0)\n"
     ]
    }
   ],
   "source": [
    "# Obliczanie kwartyli\n",
    "q1, q2, q3 = purchase_events['price'].quantile([0.25, 0.5, 0.75])\n",
    "print(f\"Q1: {q1}, Q2 (mediana): {q2}, Q3: {q3}\")\n",
    "\n",
    "# Definiowanie przedziałów cenowych\n",
    "bins = [0, q1, q2, q3, purchase_events['price'].max()]\n",
    "labels = [f\"{int(bins[i])}-{int(bins[i+1])}\" for i in range(len(bins)-1)]\n",
    "\n",
    "# Tworzenie kolumny z przedziałami cenowymi\n",
    "purchase_events['price_range'] = pd.cut(purchase_events['price'], bins=bins, labels=labels, include_lowest=True)\n",
    "\n",
    "# Grupowanie według kategorii i przedziałów cenowych\n",
    "price_range_analysis = purchase_events.groupby(['category_code', 'price_range']).size().unstack(fill_value=0)\n"
   ]
  },
  {
   "cell_type": "code",
   "execution_count": null,
   "metadata": {},
   "outputs": [],
   "source": [
    "# Grupowanie według kategorii i przedziałów cenowych\n",
    "price_range_analysis = purchase_events.groupby(['category_code', 'price_range']).size().unstack(fill_value=0)\n",
    "\n",
    "# Procentowy udział zakupów w przedziałach cenowych\n",
    "price_range_percentage = price_range_analysis.div(price_range_analysis.sum(axis=1), axis=0) * 100\n",
    "\n",
    "# Wybieramy top 5 kategorii z największą liczbą zakupów\n",
    "top_categories = price_range_analysis.sum(axis=1).nlargest(5).index\n",
    "\n",
    "for category in top_categories:\n",
    "    price_range_analysis.loc[category].plot(kind='bar', title=f'Rozkład Zakupów wg Cen w Kategorii: {category}')\n",
    "    plt.ylabel('Liczba Zakupów')\n",
    "    plt.xlabel('Przedział Cenowy')\n",
    "    plt.xticks(rotation=45)\n",
    "    plt.show()"
   ]
  },
  {
   "cell_type": "code",
   "execution_count": 34,
   "metadata": {},
   "outputs": [
    {
     "name": "stdout",
     "output_type": "stream",
     "text": [
      "count   15581360.00\n",
      "mean          19.29\n",
      "std          409.97\n",
      "min            0.00\n",
      "25%            0.00\n",
      "50%            0.58\n",
      "75%            3.73\n",
      "max        44584.73\n",
      "Name: duration, dtype: float64\n"
     ]
    }
   ],
   "source": [
    "session_time = df.groupby('user_session')['event_time'].agg(['min', 'max'])\n",
    "session_time['duration'] = (session_time['max'] - session_time['min']).dt.total_seconds() / 60\n",
    "print(session_time['duration'].describe())"
   ]
  },
  {
   "cell_type": "code",
   "execution_count": null,
   "metadata": {},
   "outputs": [
    {
     "name": "stdout",
     "output_type": "stream",
     "text": [
      "Średnia liczba `view` produktów w sesji: 4.043303927731845\n"
     ]
    }
   ],
   "source": [
    "# Filtracja zdarzeń typu 'view'\n",
    "view_events = df[df['event_type'] == 'view']\n",
    "\n",
    "# Obliczenie średniej liczby `view` produktów na sesję\n",
    "avg_views_per_session = view_events.groupby('user_session')['product_id'].count().mean()\n",
    "print(f\"Średnia liczba `view` produktów w sesji: {avg_views_per_session}\")"
   ]
  },
  {
   "cell_type": "code",
   "execution_count": 36,
   "metadata": {},
   "outputs": [
    {
     "name": "stdout",
     "output_type": "stream",
     "text": [
      "Średnia liczba `cart` produktów w sesji: 1.7115020163983934\n"
     ]
    }
   ],
   "source": [
    "# Filtracja zdarzeń typu 'cart'\n",
    "cart_events = df[df['event_type'] == 'cart']\n",
    "\n",
    "# Obliczenie średniej liczby `cart` produktów na sesję\n",
    "avg_carts_per_session = cart_events.groupby('user_session')['product_id'].count().mean()\n",
    "print(f\"Średnia liczba `cart` produktów w sesji: {avg_carts_per_session}\")"
   ]
  },
  {
   "cell_type": "code",
   "execution_count": 37,
   "metadata": {},
   "outputs": [
    {
     "name": "stdout",
     "output_type": "stream",
     "text": [
      "Średnia liczba `view` produktów na użytkownika: 13.761565713449226\n"
     ]
    }
   ],
   "source": [
    "# Obliczenie średniej liczby `view` produktów na użytkownika\n",
    "avg_views_per_user = view_events.groupby('user_id')['product_id'].count().mean()\n",
    "print(f\"Średnia liczba `view` produktów na użytkownika: {avg_views_per_user}\")\n"
   ]
  },
  {
   "cell_type": "code",
   "execution_count": 38,
   "metadata": {},
   "outputs": [
    {
     "name": "stdout",
     "output_type": "stream",
     "text": [
      "Średnia liczba `cart` produktów na użytkownika: 3.6744551793410847\n"
     ]
    }
   ],
   "source": [
    "# Obliczenie średniej liczby `cart` produktów na użytkownika\n",
    "avg_carts_per_user = cart_events.groupby('user_id')['product_id'].count().mean()\n",
    "print(f\"Średnia liczba `cart` produktów na użytkownika: {avg_carts_per_user}\")\n"
   ]
  },
  {
   "cell_type": "code",
   "execution_count": 39,
   "metadata": {},
   "outputs": [
    {
     "name": "stdout",
     "output_type": "stream",
     "text": [
      "Średnia liczba kupionych produktów w sesjach zakończonych `purchase`: 1.197981453703847\n"
     ]
    }
   ],
   "source": [
    "# Filtracja zdarzeń typu 'purchase'\n",
    "purchase_events = df[df['event_type'] == 'purchase']\n",
    "\n",
    "# Liczenie liczby zakupów w każdej sesji\n",
    "purchases_per_session = purchase_events.groupby('user_session')['product_id'].count()\n",
    "\n",
    "# Obliczenie średniej tylko dla sesji zakończonych `purchase`\n",
    "avg_purchases_per_purchase_session = purchases_per_session.mean()\n",
    "print(f\"Średnia liczba kupionych produktów w sesjach zakończonych `purchase`: {avg_purchases_per_purchase_session}\")"
   ]
  },
  {
   "cell_type": "code",
   "execution_count": 40,
   "metadata": {},
   "outputs": [
    {
     "name": "stdout",
     "output_type": "stream",
     "text": [
      "Średnia liczba kupionych produktów na użytkownika: 2.319470974876097\n"
     ]
    }
   ],
   "source": [
    "# Liczenie liczby zakupów na użytkownika\n",
    "purchases_per_user = purchase_events.groupby('user_id')['product_id'].count()\n",
    "\n",
    "# Obliczenie średniej liczby zakupów na użytkownika\n",
    "avg_purchases_per_user = purchases_per_user.mean()\n",
    "print(f\"Średnia liczba kupionych produktów na użytkownika: {avg_purchases_per_user}\")\n"
   ]
  },
  {
   "cell_type": "code",
   "execution_count": 41,
   "metadata": {},
   "outputs": [
    {
     "name": "stdout",
     "output_type": "stream",
     "text": [
      "Średnia liczba sesji na użytkownika: 3.4044225855276724\n"
     ]
    }
   ],
   "source": [
    "# Policzenie unikalnych sesji dla każdego użytkownika\n",
    "sessions_per_user = df.groupby('user_id')['user_session'].nunique()\n",
    "\n",
    "# Obliczenie średniej liczby sesji na użytkownika\n",
    "avg_sessions_per_user = sessions_per_user.mean()\n",
    "\n",
    "print(f\"Średnia liczba sesji na użytkownika: {avg_sessions_per_user}\")"
   ]
  }
 ],
 "metadata": {
  "kernelspec": {
   "display_name": "data_science",
   "language": "python",
   "name": "python3"
  },
  "language_info": {
   "codemirror_mode": {
    "name": "ipython",
    "version": 3
   },
   "file_extension": ".py",
   "mimetype": "text/x-python",
   "name": "python",
   "nbconvert_exporter": "python",
   "pygments_lexer": "ipython3",
   "version": "3.11.9"
  }
 },
 "nbformat": 4,
 "nbformat_minor": 2
}
