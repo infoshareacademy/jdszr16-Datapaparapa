{
 "cells": [
  {
   "cell_type": "code",
   "execution_count": 2,
   "metadata": {},
   "outputs": [],
   "source": [
    "# Pobieranie bibliotek\n",
    "import numpy as np\n",
    "import pandas as pd\n",
    "import matplotlib.pyplot as plt\n",
    "import seaborn as sns\n",
    "import sklearn\n",
    "\n",
    "\n",
    "pd.set_option(\"display.max_columns\", None)\n",
    "pd.set_option('display.float_format', '{:.2f}'.format)"
   ]
  },
  {
   "cell_type": "code",
   "execution_count": 3,
   "metadata": {},
   "outputs": [
    {
     "data": {
      "text/html": [
       "<div>\n",
       "<style scoped>\n",
       "    .dataframe tbody tr th:only-of-type {\n",
       "        vertical-align: middle;\n",
       "    }\n",
       "\n",
       "    .dataframe tbody tr th {\n",
       "        vertical-align: top;\n",
       "    }\n",
       "\n",
       "    .dataframe thead th {\n",
       "        text-align: right;\n",
       "    }\n",
       "</style>\n",
       "<table border=\"1\" class=\"dataframe\">\n",
       "  <thead>\n",
       "    <tr style=\"text-align: right;\">\n",
       "      <th></th>\n",
       "      <th>event_time</th>\n",
       "      <th>event_type</th>\n",
       "      <th>product_id</th>\n",
       "      <th>category_id</th>\n",
       "      <th>category_code</th>\n",
       "      <th>brand</th>\n",
       "      <th>price</th>\n",
       "      <th>user_id</th>\n",
       "      <th>user_session</th>\n",
       "    </tr>\n",
       "  </thead>\n",
       "  <tbody>\n",
       "    <tr>\n",
       "      <th>0</th>\n",
       "      <td>2019-12-01 00:00:00 UTC</td>\n",
       "      <td>remove_from_cart</td>\n",
       "      <td>5712790</td>\n",
       "      <td>1487580005268456287</td>\n",
       "      <td>NaN</td>\n",
       "      <td>f.o.x</td>\n",
       "      <td>6.27</td>\n",
       "      <td>576802932</td>\n",
       "      <td>51d85cb0-897f-48d2-918b-ad63965c12dc</td>\n",
       "    </tr>\n",
       "    <tr>\n",
       "      <th>1</th>\n",
       "      <td>2019-12-01 00:00:00 UTC</td>\n",
       "      <td>view</td>\n",
       "      <td>5764655</td>\n",
       "      <td>1487580005411062629</td>\n",
       "      <td>NaN</td>\n",
       "      <td>cnd</td>\n",
       "      <td>29.05</td>\n",
       "      <td>412120092</td>\n",
       "      <td>8adff31e-2051-4894-9758-224bfa8aec18</td>\n",
       "    </tr>\n",
       "    <tr>\n",
       "      <th>2</th>\n",
       "      <td>2019-12-01 00:00:02 UTC</td>\n",
       "      <td>cart</td>\n",
       "      <td>4958</td>\n",
       "      <td>1487580009471148064</td>\n",
       "      <td>NaN</td>\n",
       "      <td>runail</td>\n",
       "      <td>1.19</td>\n",
       "      <td>494077766</td>\n",
       "      <td>c99a50e8-2fac-4c4d-89ec-41c05f114554</td>\n",
       "    </tr>\n",
       "    <tr>\n",
       "      <th>3</th>\n",
       "      <td>2019-12-01 00:00:05 UTC</td>\n",
       "      <td>view</td>\n",
       "      <td>5848413</td>\n",
       "      <td>1487580007675986893</td>\n",
       "      <td>NaN</td>\n",
       "      <td>freedecor</td>\n",
       "      <td>0.79</td>\n",
       "      <td>348405118</td>\n",
       "      <td>722ffea5-73c0-4924-8e8f-371ff8031af4</td>\n",
       "    </tr>\n",
       "    <tr>\n",
       "      <th>4</th>\n",
       "      <td>2019-12-01 00:00:07 UTC</td>\n",
       "      <td>view</td>\n",
       "      <td>5824148</td>\n",
       "      <td>1487580005511725929</td>\n",
       "      <td>NaN</td>\n",
       "      <td>NaN</td>\n",
       "      <td>5.56</td>\n",
       "      <td>576005683</td>\n",
       "      <td>28172809-7e4a-45ce-bab0-5efa90117cd5</td>\n",
       "    </tr>\n",
       "  </tbody>\n",
       "</table>\n",
       "</div>"
      ],
      "text/plain": [
       "                event_time        event_type  product_id          category_id  \\\n",
       "0  2019-12-01 00:00:00 UTC  remove_from_cart     5712790  1487580005268456287   \n",
       "1  2019-12-01 00:00:00 UTC              view     5764655  1487580005411062629   \n",
       "2  2019-12-01 00:00:02 UTC              cart        4958  1487580009471148064   \n",
       "3  2019-12-01 00:00:05 UTC              view     5848413  1487580007675986893   \n",
       "4  2019-12-01 00:00:07 UTC              view     5824148  1487580005511725929   \n",
       "\n",
       "  category_code      brand  price    user_id  \\\n",
       "0           NaN      f.o.x   6.27  576802932   \n",
       "1           NaN        cnd  29.05  412120092   \n",
       "2           NaN     runail   1.19  494077766   \n",
       "3           NaN  freedecor   0.79  348405118   \n",
       "4           NaN        NaN   5.56  576005683   \n",
       "\n",
       "                           user_session  \n",
       "0  51d85cb0-897f-48d2-918b-ad63965c12dc  \n",
       "1  8adff31e-2051-4894-9758-224bfa8aec18  \n",
       "2  c99a50e8-2fac-4c4d-89ec-41c05f114554  \n",
       "3  722ffea5-73c0-4924-8e8f-371ff8031af4  \n",
       "4  28172809-7e4a-45ce-bab0-5efa90117cd5  "
      ]
     },
     "execution_count": 3,
     "metadata": {},
     "output_type": "execute_result"
    }
   ],
   "source": [
    "# Załadowanie datasetu\n",
    "\n",
    "df = pd.read_csv('/Users/iMac/Documents/Event datasets/Cosmetic Shop/2019-Dec.csv')\n",
    "df.head()"
   ]
  },
  {
   "cell_type": "code",
   "execution_count": 4,
   "metadata": {},
   "outputs": [
    {
     "name": "stdout",
     "output_type": "stream",
     "text": [
      "<class 'pandas.core.frame.DataFrame'>\n",
      "RangeIndex: 3533286 entries, 0 to 3533285\n",
      "Data columns (total 9 columns):\n",
      " #   Column         Dtype  \n",
      "---  ------         -----  \n",
      " 0   event_time     object \n",
      " 1   event_type     object \n",
      " 2   product_id     int64  \n",
      " 3   category_id    int64  \n",
      " 4   category_code  object \n",
      " 5   brand          object \n",
      " 6   price          float64\n",
      " 7   user_id        int64  \n",
      " 8   user_session   object \n",
      "dtypes: float64(1), int64(3), object(5)\n",
      "memory usage: 242.6+ MB\n"
     ]
    }
   ],
   "source": [
    "df.info()"
   ]
  },
  {
   "cell_type": "code",
   "execution_count": 5,
   "metadata": {},
   "outputs": [
    {
     "data": {
      "text/plain": [
       "event_time             0\n",
       "event_type             0\n",
       "product_id             0\n",
       "category_id            0\n",
       "category_code    3474821\n",
       "brand            1510289\n",
       "price                  0\n",
       "user_id                0\n",
       "user_session         779\n",
       "dtype: int64"
      ]
     },
     "execution_count": 5,
     "metadata": {},
     "output_type": "execute_result"
    }
   ],
   "source": [
    "df.isnull().sum()"
   ]
  },
  {
   "cell_type": "code",
   "execution_count": 6,
   "metadata": {},
   "outputs": [
    {
     "name": "stdout",
     "output_type": "stream",
     "text": [
      "183860\n"
     ]
    }
   ],
   "source": [
    "print(df.duplicated().sum())"
   ]
  },
  {
   "cell_type": "code",
   "execution_count": 10,
   "metadata": {},
   "outputs": [],
   "source": [
    "df = df.drop_duplicates()"
   ]
  },
  {
   "cell_type": "code",
   "execution_count": 23,
   "metadata": {},
   "outputs": [
    {
     "data": {
      "text/html": [
       "<div>\n",
       "<style scoped>\n",
       "    .dataframe tbody tr th:only-of-type {\n",
       "        vertical-align: middle;\n",
       "    }\n",
       "\n",
       "    .dataframe tbody tr th {\n",
       "        vertical-align: top;\n",
       "    }\n",
       "\n",
       "    .dataframe thead th {\n",
       "        text-align: right;\n",
       "    }\n",
       "</style>\n",
       "<table border=\"1\" class=\"dataframe\">\n",
       "  <thead>\n",
       "    <tr style=\"text-align: right;\">\n",
       "      <th></th>\n",
       "      <th>event_time</th>\n",
       "      <th>event_type</th>\n",
       "      <th>product_id</th>\n",
       "      <th>category_id</th>\n",
       "      <th>category_code</th>\n",
       "      <th>brand</th>\n",
       "      <th>price</th>\n",
       "      <th>user_id</th>\n",
       "      <th>user_session</th>\n",
       "    </tr>\n",
       "  </thead>\n",
       "  <tbody>\n",
       "    <tr>\n",
       "      <th>0</th>\n",
       "      <td>2019-12-01 00:00:00 UTC</td>\n",
       "      <td>view</td>\n",
       "      <td>1005105</td>\n",
       "      <td>2232732093077520756</td>\n",
       "      <td>construction.tools.light</td>\n",
       "      <td>apple</td>\n",
       "      <td>1302.48</td>\n",
       "      <td>556695836</td>\n",
       "      <td>ca5eefc5-11f9-450c-91ed-380285a0bc80</td>\n",
       "    </tr>\n",
       "    <tr>\n",
       "      <th>1</th>\n",
       "      <td>2019-12-01 00:00:00 UTC</td>\n",
       "      <td>view</td>\n",
       "      <td>22700068</td>\n",
       "      <td>2232732091643068746</td>\n",
       "      <td>NaN</td>\n",
       "      <td>force</td>\n",
       "      <td>102.96</td>\n",
       "      <td>577702456</td>\n",
       "      <td>de33debe-c7bf-44e8-8a12-3bf8421f842a</td>\n",
       "    </tr>\n",
       "    <tr>\n",
       "      <th>2</th>\n",
       "      <td>2019-12-01 00:00:01 UTC</td>\n",
       "      <td>view</td>\n",
       "      <td>2402273</td>\n",
       "      <td>2232732100769874463</td>\n",
       "      <td>appliances.personal.massager</td>\n",
       "      <td>bosch</td>\n",
       "      <td>313.52</td>\n",
       "      <td>539453785</td>\n",
       "      <td>5ee185a7-0689-4a33-923d-ba0130929a76</td>\n",
       "    </tr>\n",
       "    <tr>\n",
       "      <th>3</th>\n",
       "      <td>2019-12-01 00:00:02 UTC</td>\n",
       "      <td>purchase</td>\n",
       "      <td>26400248</td>\n",
       "      <td>2053013553056579841</td>\n",
       "      <td>computers.peripherals.printer</td>\n",
       "      <td>NaN</td>\n",
       "      <td>132.31</td>\n",
       "      <td>535135317</td>\n",
       "      <td>61792a26-672f-4e61-9832-7b63bb1714db</td>\n",
       "    </tr>\n",
       "    <tr>\n",
       "      <th>4</th>\n",
       "      <td>2019-12-01 00:00:02 UTC</td>\n",
       "      <td>view</td>\n",
       "      <td>20100164</td>\n",
       "      <td>2232732110089618156</td>\n",
       "      <td>apparel.trousers</td>\n",
       "      <td>nika</td>\n",
       "      <td>101.68</td>\n",
       "      <td>517987650</td>\n",
       "      <td>906c6ca8-ff5c-419a-bde9-967ba8e2233e</td>\n",
       "    </tr>\n",
       "  </tbody>\n",
       "</table>\n",
       "</div>"
      ],
      "text/plain": [
       "                event_time event_type  product_id          category_id  \\\n",
       "0  2019-12-01 00:00:00 UTC       view     1005105  2232732093077520756   \n",
       "1  2019-12-01 00:00:00 UTC       view    22700068  2232732091643068746   \n",
       "2  2019-12-01 00:00:01 UTC       view     2402273  2232732100769874463   \n",
       "3  2019-12-01 00:00:02 UTC   purchase    26400248  2053013553056579841   \n",
       "4  2019-12-01 00:00:02 UTC       view    20100164  2232732110089618156   \n",
       "\n",
       "                   category_code  brand   price    user_id  \\\n",
       "0       construction.tools.light  apple 1302.48  556695836   \n",
       "1                            NaN  force  102.96  577702456   \n",
       "2   appliances.personal.massager  bosch  313.52  539453785   \n",
       "3  computers.peripherals.printer    NaN  132.31  535135317   \n",
       "4               apparel.trousers   nika  101.68  517987650   \n",
       "\n",
       "                           user_session  \n",
       "0  ca5eefc5-11f9-450c-91ed-380285a0bc80  \n",
       "1  de33debe-c7bf-44e8-8a12-3bf8421f842a  \n",
       "2  5ee185a7-0689-4a33-923d-ba0130929a76  \n",
       "3  61792a26-672f-4e61-9832-7b63bb1714db  \n",
       "4  906c6ca8-ff5c-419a-bde9-967ba8e2233e  "
      ]
     },
     "execution_count": 23,
     "metadata": {},
     "output_type": "execute_result"
    }
   ],
   "source": [
    "df_1.head()"
   ]
  },
  {
   "cell_type": "code",
   "execution_count": null,
   "metadata": {},
   "outputs": [],
   "source": [
    "#Posegregowanie kolumn na te które posiadają wartości kategoryczne i numeryczne\n",
    "\n",
    "object_columns  = df_1.select_dtypes(['object']).columns\n",
    "\n",
    "int_columns  = df_1.select_dtypes(['int64']).columns\n",
    "\n",
    "print(object_columns)\n",
    "print(int_columns)"
   ]
  },
  {
   "cell_type": "code",
   "execution_count": null,
   "metadata": {},
   "outputs": [],
   "source": [
    "df_1.describe()"
   ]
  },
  {
   "cell_type": "code",
   "execution_count": null,
   "metadata": {},
   "outputs": [],
   "source": [
    "#Przegląd wartości i ich liczebności w zmiennych kategorycznych\n",
    "\n",
    "for col in object_columns:\n",
    "    print(df_1[col].value_counts())\n",
    "    print(\"\\n**************\\n\")"
   ]
  },
  {
   "cell_type": "code",
   "execution_count": 11,
   "metadata": {},
   "outputs": [
    {
     "name": "stderr",
     "output_type": "stream",
     "text": [
      "/var/folders/rj/74569_hj08dczy17w0prp9br0000gp/T/ipykernel_27248/2362199287.py:8: SettingWithCopyWarning: \n",
      "A value is trying to be set on a copy of a slice from a DataFrame.\n",
      "Try using .loc[row_indexer,col_indexer] = value instead\n",
      "\n",
      "See the caveats in the documentation: https://pandas.pydata.org/pandas-docs/stable/user_guide/indexing.html#returning-a-view-versus-a-copy\n",
      "  purchases['hour'] = purchases['event_time'].dt.hour\n"
     ]
    },
    {
     "data": {
      "image/png": "[encoded data removed]",
      "text/plain": [
       "<Figure size 1000x500 with 1 Axes>"
      ]
     },
     "metadata": {},
     "output_type": "display_data"
    }
   ],
   "source": [
    "# Upewnij się, że kolumna 'event_time' jest typu datetime\n",
    "df['event_time'] = pd.to_datetime(df['event_time'])\n",
    "\n",
    "# Filtruj zdarzenia typu 'purchase'\n",
    "purchases = df[df['event_type'] == 'purchase']\n",
    "\n",
    "# Wyciągnij godzinę z czasu zdarzenia\n",
    "purchases['hour'] = purchases['event_time'].dt.hour\n",
    "\n",
    "# Grupuj zakupy według godzin\n",
    "hourly_purchases = purchases['hour'].value_counts().sort_index()\n",
    "\n",
    "# Wizualizacja\n",
    "import matplotlib.pyplot as plt\n",
    "\n",
    "hourly_purchases.plot(kind='bar', title='Rozkład zakupów według godzin (1 AM - 12 PM)', figsize=(10, 5))\n",
    "plt.xlabel('Godzina')\n",
    "plt.ylabel('Liczba zakupów')\n",
    "plt.show()\n"
   ]
  },
  {
   "cell_type": "code",
   "execution_count": null,
   "metadata": {},
   "outputs": [],
   "source": [
    "# Upewnij się, że kolumna 'event_time' jest typu datetime\n",
    "df['event_time'] = pd.to_datetime(df['event_time'])\n",
    "\n",
    "# Filtruj zdarzenia typu 'purchase'\n",
    "purchases = df[df['event_type'] == 'purchase']\n",
    "\n",
    "# Wyciągnij godzinę z czasu zdarzenia\n",
    "purchases['hour'] = purchases['event_time'].dt.hour\n",
    "\n",
    "# Grupuj zakupy według godzin i kategorii\n",
    "hourly_category_purchases = purchases.groupby(['hour', 'category_code']).size().unstack(fill_value=0)\n",
    "\n",
    "# Wizualizacja dla wybranych kategorii\n",
    "import matplotlib.pyplot as plt\n",
    "\n",
    "# Wybierz kilka kategorii (np. top 5 z największą liczbą zakupów)\n",
    "top_categories = purchases['category_code'].value_counts().head(5).index\n",
    "\n",
    "# Rysuj wykresy dla wybranych kategorii\n",
    "for category in top_categories:\n",
    "    hourly_category_purchases[category].plot(kind='bar', title=f'Zakupy według godzin dla kategorii: {category}', figsize=(10, 5))\n",
    "    plt.xlabel('Godzina')\n",
    "    plt.ylabel('Liczba zakupów')\n",
    "    plt.show()\n"
   ]
  },
  {
   "cell_type": "code",
   "execution_count": 12,
   "metadata": {},
   "outputs": [
    {
     "name": "stderr",
     "output_type": "stream",
     "text": [
      "/var/folders/rj/74569_hj08dczy17w0prp9br0000gp/T/ipykernel_27248/2702073296.py:2: SettingWithCopyWarning: \n",
      "A value is trying to be set on a copy of a slice from a DataFrame.\n",
      "Try using .loc[row_indexer,col_indexer] = value instead\n",
      "\n",
      "See the caveats in the documentation: https://pandas.pydata.org/pandas-docs/stable/user_guide/indexing.html#returning-a-view-versus-a-copy\n",
      "  purchases['weekday'] = purchases['event_time'].dt.day_name()  # Nazwa dnia tygodnia\n"
     ]
    },
    {
     "data": {
      "image/png": "[encoded data removed]",
      "text/plain": [
       "<Figure size 1000x500 with 1 Axes>"
      ]
     },
     "metadata": {},
     "output_type": "display_data"
    }
   ],
   "source": [
    "# Wyciągnij dzień tygodnia z czasu zdarzenia\n",
    "purchases['weekday'] = purchases['event_time'].dt.day_name()  # Nazwa dnia tygodnia\n",
    "\n",
    "# Predefiniowana kolejność dni tygodnia\n",
    "ordered_days = ['Monday', 'Tuesday', 'Wednesday', 'Thursday', 'Friday', 'Saturday', 'Sunday']\n",
    "\n",
    "# Grupuj zakupy według dni tygodnia\n",
    "weekday_purchases = purchases['weekday'].value_counts()\n",
    "\n",
    "# Sortowanie dni tygodnia według predefiniowanej kolejności\n",
    "weekday_purchases = weekday_purchases.reindex(ordered_days)\n",
    "\n",
    "# Wizualizacja\n",
    "weekday_purchases.plot(kind='bar', title='Rozkład zakupów według dni tygodnia', figsize=(10, 5))\n",
    "plt.xlabel('Dzień tygodnia')\n",
    "plt.ylabel('Liczba zakupów')\n",
    "plt.show()\n",
    "\n"
   ]
  },
  {
   "cell_type": "code",
   "execution_count": 13,
   "metadata": {},
   "outputs": [
    {
     "name": "stderr",
     "output_type": "stream",
     "text": [
      "/var/folders/rj/74569_hj08dczy17w0prp9br0000gp/T/ipykernel_27248/1209702817.py:2: SettingWithCopyWarning: \n",
      "A value is trying to be set on a copy of a slice from a DataFrame.\n",
      "Try using .loc[row_indexer,col_indexer] = value instead\n",
      "\n",
      "See the caveats in the documentation: https://pandas.pydata.org/pandas-docs/stable/user_guide/indexing.html#returning-a-view-versus-a-copy\n",
      "  purchases['day_of_month'] = purchases['event_time'].dt.day\n"
     ]
    },
    {
     "data": {
      "image/png": "[encoded data removed]",
      "text/plain": [
       "<Figure size 1000x500 with 1 Axes>"
      ]
     },
     "metadata": {},
     "output_type": "display_data"
    }
   ],
   "source": [
    "# Wyciągnij dzień miesiąca z czasu zdarzenia\n",
    "purchases['day_of_month'] = purchases['event_time'].dt.day\n",
    "\n",
    "# Grupuj zakupy według dni miesiąca\n",
    "day_of_month_purchases = purchases['day_of_month'].value_counts().sort_index()\n",
    "\n",
    "# Wizualizacja\n",
    "day_of_month_purchases.plot(kind='bar', title='Rozkład zakupów według dni miesiąca', figsize=(10, 5))\n",
    "plt.xlabel('Dzień miesiąca')\n",
    "plt.ylabel('Liczba zakupów')\n",
    "plt.show()"
   ]
  },
  {
   "cell_type": "code",
   "execution_count": 14,
   "metadata": {},
   "outputs": [
    {
     "name": "stdout",
     "output_type": "stream",
     "text": [
      "event_type\n",
      "view               51.60\n",
      "cart               27.22\n",
      "remove_from_cart   14.82\n",
      "purchase            6.36\n",
      "Name: proportion, dtype: float64\n"
     ]
    },
    {
     "data": {
      "text/plain": [
       "<Axes: title={'center': 'Rozkład typów zdarzeń'}, xlabel='event_type'>"
      ]
     },
     "execution_count": 14,
     "metadata": {},
     "output_type": "execute_result"
    },
    {
     "data": {
      "image/png": "[encoded data removed]",
      "text/plain": [
       "<Figure size 640x480 with 1 Axes>"
      ]
     },
     "metadata": {},
     "output_type": "display_data"
    }
   ],
   "source": [
    "print(df['event_type'].value_counts(normalize=True) * 100)  # Procentowy udział zdarzeń\n",
    "df['event_type'].value_counts().plot(kind='bar', title='Rozkład typów zdarzeń')  # Wykres\n"
   ]
  },
  {
   "cell_type": "code",
   "execution_count": null,
   "metadata": {},
   "outputs": [],
   "source": [
    "# Filtracja i analiza dla każdego zdarzenia\n",
    "event_types = df['event_type'].unique()  # Pobierz unikalne typy zdarzeń\n",
    "for event in event_types:\n",
    "    print(f\"Najpopularniejsze produkty dla zdarzenia: {event}\")\n",
    "    popular_products = df[df['event_type'] == event]['product_id'].value_counts().head(10)\n",
    "    print(popular_products)\n",
    "    print()"
   ]
  },
  {
   "cell_type": "code",
   "execution_count": null,
   "metadata": {},
   "outputs": [],
   "source": [
    "# Filtracja i analiza dla kategorii\n",
    "for event in event_types:\n",
    "    print(f\"Najpopularniejsze kategorie dla zdarzenia: {event}\")\n",
    "    popular_categories = df[df['event_type'] == event]['category_code'].value_counts().head(10)\n",
    "    print(popular_categories)\n",
    "    print()"
   ]
  },
  {
   "cell_type": "code",
   "execution_count": null,
   "metadata": {},
   "outputs": [],
   "source": [
    "# Filtracja i analiza dla marek\n",
    "for event in event_types:\n",
    "    print(f\"Najpopularniejsze marki dla zdarzenia: {event}\")\n",
    "    popular_brands = df[df['event_type'] == event]['brand'].value_counts().head(10)\n",
    "    print(popular_brands)\n",
    "    print()"
   ]
  },
  {
   "cell_type": "code",
   "execution_count": 15,
   "metadata": {},
   "outputs": [],
   "source": [
    "# Filtracja zdarzeń typu 'purchase'\n",
    "purchase_events = df[df['event_type'] == 'purchase']"
   ]
  },
  {
   "cell_type": "code",
   "execution_count": 32,
   "metadata": {},
   "outputs": [
    {
     "name": "stdout",
     "output_type": "stream",
     "text": [
      "Q1: 84.02, Q2 (mediana): 176.84, Q3: 344.38\n"
     ]
    },
    {
     "name": "stderr",
     "output_type": "stream",
     "text": [
      "/var/folders/rj/74569_hj08dczy17w0prp9br0000gp/T/ipykernel_15907/3907636253.py:10: SettingWithCopyWarning: \n",
      "A value is trying to be set on a copy of a slice from a DataFrame.\n",
      "Try using .loc[row_indexer,col_indexer] = value instead\n",
      "\n",
      "See the caveats in the documentation: https://pandas.pydata.org/pandas-docs/stable/user_guide/indexing.html#returning-a-view-versus-a-copy\n",
      "  purchase_events['price_range'] = pd.cut(purchase_events['price'], bins=bins, labels=labels, include_lowest=True)\n",
      "/var/folders/rj/74569_hj08dczy17w0prp9br0000gp/T/ipykernel_15907/3907636253.py:13: FutureWarning: The default of observed=False is deprecated and will be changed to True in a future version of pandas. Pass observed=False to retain current behavior or observed=True to adopt the future default and silence this warning.\n",
      "  price_range_analysis = purchase_events.groupby(['category_code', 'price_range']).size().unstack(fill_value=0)\n"
     ]
    }
   ],
   "source": [
    "# Obliczanie kwartyli\n",
    "q1, q2, q3 = purchase_events['price'].quantile([0.25, 0.5, 0.75])\n",
    "print(f\"Q1: {q1}, Q2 (mediana): {q2}, Q3: {q3}\")\n",
    "\n",
    "# Definiowanie przedziałów cenowych\n",
    "bins = [0, q1, q2, q3, purchase_events['price'].max()]\n",
    "labels = [f\"{int(bins[i])}-{int(bins[i+1])}\" for i in range(len(bins)-1)]\n",
    "\n",
    "# Tworzenie kolumny z przedziałami cenowymi\n",
    "purchase_events['price_range'] = pd.cut(purchase_events['price'], bins=bins, labels=labels, include_lowest=True)\n",
    "\n",
    "# Grupowanie według kategorii i przedziałów cenowych\n",
    "price_range_analysis = purchase_events.groupby(['category_code', 'price_range']).size().unstack(fill_value=0)\n"
   ]
  },
  {
   "cell_type": "code",
   "execution_count": null,
   "metadata": {},
   "outputs": [],
   "source": [
    "# Grupowanie według kategorii i przedziałów cenowych\n",
    "price_range_analysis = purchase_events.groupby(['category_code', 'price_range']).size().unstack(fill_value=0)\n",
    "\n",
    "# Procentowy udział zakupów w przedziałach cenowych\n",
    "price_range_percentage = price_range_analysis.div(price_range_analysis.sum(axis=1), axis=0) * 100\n",
    "\n",
    "# Wybieramy top 5 kategorii z największą liczbą zakupów\n",
    "top_categories = price_range_analysis.sum(axis=1).nlargest(5).index\n",
    "\n",
    "for category in top_categories:\n",
    "    price_range_analysis.loc[category].plot(kind='bar', title=f'Rozkład Zakupów wg Cen w Kategorii: {category}')\n",
    "    plt.ylabel('Liczba Zakupów')\n",
    "    plt.xlabel('Przedział Cenowy')\n",
    "    plt.xticks(rotation=45)\n",
    "    plt.show()"
   ]
  },
  {
   "cell_type": "code",
   "execution_count": 16,
   "metadata": {},
   "outputs": [
    {
     "name": "stdout",
     "output_type": "stream",
     "text": [
      "count   839812.00\n",
      "mean        59.28\n",
      "std        930.36\n",
      "min          0.00\n",
      "25%          0.00\n",
      "50%          0.00\n",
      "75%          1.35\n",
      "max      43696.47\n",
      "Name: duration, dtype: float64\n"
     ]
    }
   ],
   "source": [
    "session_time = df.groupby('user_session')['event_time'].agg(['min', 'max'])\n",
    "session_time['duration'] = (session_time['max'] - session_time['min']).dt.total_seconds() / 60\n",
    "print(session_time['duration'].describe())"
   ]
  },
  {
   "cell_type": "code",
   "execution_count": 17,
   "metadata": {},
   "outputs": [
    {
     "name": "stdout",
     "output_type": "stream",
     "text": [
      "Średnia liczba `view` produktów w sesji: 2.1754546736218807\n"
     ]
    }
   ],
   "source": [
    "# Filtracja zdarzeń typu 'view'\n",
    "view_events = df[df['event_type'] == 'view']\n",
    "\n",
    "# Obliczenie średniej liczby `view` produktów na sesję\n",
    "avg_views_per_session = view_events.groupby('user_session')['product_id'].count().mean()\n",
    "print(f\"Średnia liczba `view` produktów w sesji: {avg_views_per_session}\")"
   ]
  },
  {
   "cell_type": "code",
   "execution_count": 18,
   "metadata": {},
   "outputs": [
    {
     "name": "stdout",
     "output_type": "stream",
     "text": [
      "Średnia liczba `cart` produktów w sesji: 5.5116488702017605\n"
     ]
    }
   ],
   "source": [
    "# Filtracja zdarzeń typu 'cart'\n",
    "cart_events = df[df['event_type'] == 'cart']\n",
    "\n",
    "# Obliczenie średniej liczby `cart` produktów na sesję\n",
    "avg_carts_per_session = cart_events.groupby('user_session')['product_id'].count().mean()\n",
    "print(f\"Średnia liczba `cart` produktów w sesji: {avg_carts_per_session}\")"
   ]
  },
  {
   "cell_type": "code",
   "execution_count": 19,
   "metadata": {},
   "outputs": [
    {
     "name": "stdout",
     "output_type": "stream",
     "text": [
      "Średnia liczba `view` produktów na użytkownika: 4.824575949437763\n"
     ]
    }
   ],
   "source": [
    "# Obliczenie średniej liczby `view` produktów na użytkownika\n",
    "avg_views_per_user = view_events.groupby('user_id')['product_id'].count().mean()\n",
    "print(f\"Średnia liczba `view` produktów na użytkownika: {avg_views_per_user}\")\n"
   ]
  },
  {
   "cell_type": "code",
   "execution_count": 20,
   "metadata": {},
   "outputs": [
    {
     "name": "stdout",
     "output_type": "stream",
     "text": [
      "Średnia liczba `cart` produktów na użytkownika: 10.923350667401568\n"
     ]
    }
   ],
   "source": [
    "# Obliczenie średniej liczby `cart` produktów na użytkownika\n",
    "avg_carts_per_user = cart_events.groupby('user_id')['product_id'].count().mean()\n",
    "print(f\"Średnia liczba `cart` produktów na użytkownika: {avg_carts_per_user}\")\n"
   ]
  },
  {
   "cell_type": "code",
   "execution_count": 21,
   "metadata": {},
   "outputs": [
    {
     "name": "stdout",
     "output_type": "stream",
     "text": [
      "Średnia liczba kupionych produktów w sesjach zakończonych `purchase`: 7.374056897625804\n"
     ]
    }
   ],
   "source": [
    "# Filtracja zdarzeń typu 'purchase'\n",
    "purchase_events = df[df['event_type'] == 'purchase']\n",
    "\n",
    "# Liczenie liczby zakupów w każdej sesji\n",
    "purchases_per_session = purchase_events.groupby('user_session')['product_id'].count()\n",
    "\n",
    "# Obliczenie średniej tylko dla sesji zakończonych `purchase`\n",
    "avg_purchases_per_purchase_session = purchases_per_session.mean()\n",
    "print(f\"Średnia liczba kupionych produktów w sesjach zakończonych `purchase`: {avg_purchases_per_purchase_session}\")"
   ]
  },
  {
   "cell_type": "code",
   "execution_count": 22,
   "metadata": {},
   "outputs": [
    {
     "name": "stdout",
     "output_type": "stream",
     "text": [
      "Średnia liczba kupionych produktów na użytkownika: 8.31866630226838\n"
     ]
    }
   ],
   "source": [
    "# Liczenie liczby zakupów na użytkownika\n",
    "purchases_per_user = purchase_events.groupby('user_id')['product_id'].count()\n",
    "\n",
    "# Obliczenie średniej liczby zakupów na użytkownika\n",
    "avg_purchases_per_user = purchases_per_user.mean()\n",
    "print(f\"Średnia liczba kupionych produktów na użytkownika: {avg_purchases_per_user}\")\n"
   ]
  },
  {
   "cell_type": "code",
   "execution_count": 23,
   "metadata": {},
   "outputs": [
    {
     "name": "stdout",
     "output_type": "stream",
     "text": [
      "Średnia liczba sesji na użytkownika: 2.268961027031992\n"
     ]
    }
   ],
   "source": [
    "# Policzenie unikalnych sesji dla każdego użytkownika\n",
    "sessions_per_user = df.groupby('user_id')['user_session'].nunique()\n",
    "\n",
    "# Obliczenie średniej liczby sesji na użytkownika\n",
    "avg_sessions_per_user = sessions_per_user.mean()\n",
    "\n",
    "print(f\"Średnia liczba sesji na użytkownika: {avg_sessions_per_user}\")"
   ]
  }
 ],
 "metadata": {
  "kernelspec": {
   "display_name": "data_science",
   "language": "python",
   "name": "python3"
  },
  "language_info": {
   "codemirror_mode": {
    "name": "ipython",
    "version": 3
   },
   "file_extension": ".py",
   "mimetype": "text/x-python",
   "name": "python",
   "nbconvert_exporter": "python",
   "pygments_lexer": "ipython3",
   "version": "3.11.9"
  }
 },
 "nbformat": 4,
 "nbformat_minor": 2
}
