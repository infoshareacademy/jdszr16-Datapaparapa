{
 "cells": [
  {
   "cell_type": "code",
   "id": "initial_id",
   "metadata": {
    "collapsed": true,
    "ExecuteTime": {
     "end_time": "2024-12-11T16:05:15.459228Z",
     "start_time": "2024-12-11T16:05:14.432807Z"
    }
   },
   "source": [
    "import pandas as pd\n",
    "from mlxtend.frequent_patterns import apriori, association_rules\n",
    "from sklearn.feature_extraction.text import CountVectorizer"
   ],
   "outputs": [],
   "execution_count": 1
  },
  {
   "metadata": {
    "ExecuteTime": {
     "end_time": "2024-12-11T16:05:20.374049Z",
     "start_time": "2024-12-11T16:05:15.468487Z"
    }
   },
   "cell_type": "code",
   "source": "data = pd.read_csv('data/2019-Oct.csv')",
   "id": "754e460fa432e1a0",
   "outputs": [],
   "execution_count": 2
  },
  {
   "metadata": {
    "ExecuteTime": {
     "end_time": "2024-12-11T16:05:22.746563Z",
     "start_time": "2024-12-11T16:05:20.505817Z"
    }
   },
   "cell_type": "code",
   "source": [
    "def create_dense_matrix(data, column):\n",
    "    grouped_data = data.groupby('user_id')[column].apply(lambda x: ' '.join(map(str, x.unique())))\n",
    "    vectorizer = CountVectorizer(binary=True, dtype=bool)\n",
    "    sparse_matrix = vectorizer.fit_transform(grouped_data.astype(str))\n",
    "    return pd.DataFrame(sparse_matrix.toarray(), columns=vectorizer.get_feature_names_out())\n",
    "\n",
    "filtered_data = data[data['event_type'] == 'purchase'][['user_id', 'product_id']].dropna()\n",
    "filtered_data['product_id'] = filtered_data['product_id'].astype(str)\n",
    "\n",
    "product_dense_df = create_dense_matrix(filtered_data, 'product_id')\n",
    "brand_basket_data = data[data['event_type'] == 'purchase'][['user_id', 'brand']].dropna()\n",
    "brand_basket_data['brand'] = brand_basket_data['brand'].apply(lambda x: x.replace('.', '_')) \n",
    "\n",
    "category_basket_data = data[data['event_type'] == 'purchase'][['user_id', 'category_id']].dropna()\n",
    "brand_sparse_df = create_dense_matrix(brand_basket_data, 'brand')\n",
    "category_sparse_df = create_dense_matrix(category_basket_data, 'category_id')\n"
   ],
   "id": "ef1a1cf966dd3e7f",
   "outputs": [],
   "execution_count": 3
  },
  {
   "metadata": {
    "ExecuteTime": {
     "end_time": "2024-12-11T16:05:22.755592Z",
     "start_time": "2024-12-11T16:05:22.753346Z"
    }
   },
   "cell_type": "code",
   "source": [
    "def generate_association_rules(data_df, min_support, min_confidence):\n",
    "    frequent_itemsets = apriori(data_df, min_support=min_support, use_colnames=True)\n",
    "    rules = association_rules(frequent_itemsets, metric=\"confidence\", min_threshold=min_confidence)\n",
    "    return rules"
   ],
   "id": "c3c8bb750ee89373",
   "outputs": [],
   "execution_count": 4
  },
  {
   "metadata": {
    "ExecuteTime": {
     "end_time": "2024-12-11T16:06:50.534094Z",
     "start_time": "2024-12-11T16:05:22.772451Z"
    }
   },
   "cell_type": "code",
   "source": "product_association_rules = generate_association_rules(product_dense_df, min_support=0.002, min_confidence=0.1)",
   "id": "8268b3aa44735bb1",
   "outputs": [],
   "execution_count": 5
  },
  {
   "metadata": {
    "ExecuteTime": {
     "end_time": "2024-12-11T16:06:52.321188Z",
     "start_time": "2024-12-11T16:06:50.599453Z"
    }
   },
   "cell_type": "code",
   "source": [
    "brand_association_rules = generate_association_rules(brand_sparse_df, min_support=0.002, min_confidence=0.1)\n",
    "category_association_rules = generate_association_rules(category_sparse_df, min_support=0.002, min_confidence=0.1)"
   ],
   "id": "92ef1b0410f6bcff",
   "outputs": [],
   "execution_count": 6
  },
  {
   "metadata": {
    "ExecuteTime": {
     "end_time": "2024-12-11T16:06:52.376307Z",
     "start_time": "2024-12-11T16:06:52.367323Z"
    }
   },
   "cell_type": "code",
   "source": [
    "product_association_rules['antecedents'] = product_association_rules['antecedents'].apply(lambda x: ', '.join(list(x)))\n",
    "product_association_rules['consequents'] = product_association_rules['consequents'].apply(lambda x: ', '.join(list(x)))\n",
    "\n",
    "product_association_rules.to_csv('reguly_asocjacyjne_produkty_Oct.csv', index=False, float_format='%.3f')\n",
    "\n",
    "print(\"Zapisano reguły do pliku 'reguly_asocjacyjne_produkty_Oct.csv'.\")"
   ],
   "id": "9efff91014c0655f",
   "outputs": [
    {
     "name": "stdout",
     "output_type": "stream",
     "text": [
      "Zapisano reguły do pliku 'reguly_asocjacyjne_produkty_Oct.csv'.\n"
     ]
    }
   ],
   "execution_count": 7
  },
  {
   "metadata": {
    "ExecuteTime": {
     "end_time": "2024-12-11T16:06:52.401154Z",
     "start_time": "2024-12-11T16:06:52.397031Z"
    }
   },
   "cell_type": "code",
   "source": [
    "brand_association_rules['antecedents'] = brand_association_rules['antecedents'].apply(lambda x: ', '.join(list(x)))\n",
    "brand_association_rules['consequents'] = brand_association_rules['consequents'].apply(lambda x: ', '.join(list(x)))\n",
    "\n",
    "brand_association_rules.to_csv('reguly_asocjacyjne_marki_Oct.csv', index=False, float_format='%.3f')\n",
    "\n",
    "print(\"Zapisano reguły do pliku 'reguly_asocjacyjne_marki_Oct.csv'.\")"
   ],
   "id": "d98fcf71cf22cd1b",
   "outputs": [
    {
     "name": "stdout",
     "output_type": "stream",
     "text": [
      "Zapisano reguły do pliku 'reguly_asocjacyjne_marki_Oct.csv'.\n"
     ]
    }
   ],
   "execution_count": 8
  },
  {
   "metadata": {
    "ExecuteTime": {
     "end_time": "2024-12-11T16:06:52.411202Z",
     "start_time": "2024-12-11T16:06:52.405668Z"
    }
   },
   "cell_type": "code",
   "source": [
    "category_association_rules['antecedents'] = category_association_rules['antecedents'].apply(lambda x: ', '.join(list(x)))\n",
    "brand_association_rules['consequents'] = category_association_rules['consequents'].apply(lambda x: ', '.join(list(x)))\n",
    "\n",
    "category_association_rules.to_csv('reguly_asocjacyjne_kategorie_Oct.csv', index=False, float_format='%.3f')\n",
    "\n",
    "print(\"Zapisano reguły do pliku 'reguly_asocjacyjne_kategorie_Oct.csv'.\")"
   ],
   "id": "5b143950068376ad",
   "outputs": [
    {
     "name": "stdout",
     "output_type": "stream",
     "text": [
      "Zapisano reguły do pliku 'reguly_asocjacyjne_kategorie_Oct.csv'.\n"
     ]
    }
   ],
   "execution_count": 9
  }
 ],
 "metadata": {
  "kernelspec": {
   "display_name": "Python 3",
   "language": "python",
   "name": "python3"
  },
  "language_info": {
   "codemirror_mode": {
    "name": "ipython",
    "version": 3
   },
   "file_extension": ".py",
   "mimetype": "text/x-python",
   "name": "python",
   "nbconvert_exporter": "python",
   "pygments_lexer": "ipython3",
   "version": "3.12.7"
  }
 },
 "nbformat": 4,
 "nbformat_minor": 5
}
